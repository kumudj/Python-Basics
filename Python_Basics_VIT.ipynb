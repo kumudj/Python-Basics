{
 "cells": [
  {
   "cell_type": "code",
   "execution_count": 1,
   "metadata": {},
   "outputs": [
    {
     "data": {
      "text/plain": [
       "'D:\\\\SmartBridge\\\\VIT'"
      ]
     },
     "execution_count": 1,
     "metadata": {},
     "output_type": "execute_result"
    }
   ],
   "source": [
    "pwd"
   ]
  },
  {
   "cell_type": "code",
   "execution_count": 5,
   "metadata": {},
   "outputs": [
    {
     "name": "stdout",
     "output_type": "stream",
     "text": [
      "hello VIT\n"
     ]
    }
   ],
   "source": [
    "print(\"hello VIT\")"
   ]
  },
  {
   "cell_type": "markdown",
   "metadata": {},
   "source": [
    "if you would like to describe about your code-----markdown"
   ]
  },
  {
   "cell_type": "raw",
   "metadata": {},
   "source": [
    "if you would like it to static-raw nb count"
   ]
  },
  {
   "cell_type": "markdown",
   "metadata": {},
   "source": [
    "# Python Basics"
   ]
  },
  {
   "cell_type": "code",
   "execution_count": 5,
   "metadata": {},
   "outputs": [
    {
     "name": "stdout",
     "output_type": "stream",
     "text": [
      "hello VIT\n"
     ]
    }
   ],
   "source": [
    "print(\"hello VIT\")"
   ]
  },
  {
   "cell_type": "markdown",
   "metadata": {},
   "source": [
    "## Variables"
   ]
  },
  {
   "cell_type": "code",
   "execution_count": 6,
   "metadata": {},
   "outputs": [],
   "source": [
    "a=5\n",
    "#variable name=value"
   ]
  },
  {
   "cell_type": "code",
   "execution_count": 7,
   "metadata": {},
   "outputs": [],
   "source": [
    "b=2.5"
   ]
  },
  {
   "cell_type": "code",
   "execution_count": 8,
   "metadata": {},
   "outputs": [
    {
     "data": {
      "text/plain": [
       "int"
      ]
     },
     "execution_count": 8,
     "metadata": {},
     "output_type": "execute_result"
    }
   ],
   "source": [
    "type(a) "
   ]
  },
  {
   "cell_type": "code",
   "execution_count": 9,
   "metadata": {},
   "outputs": [
    {
     "data": {
      "text/plain": [
       "float"
      ]
     },
     "execution_count": 9,
     "metadata": {},
     "output_type": "execute_result"
    }
   ],
   "source": [
    "type(b)"
   ]
  },
  {
   "cell_type": "code",
   "execution_count": 1,
   "metadata": {},
   "outputs": [],
   "source": [
    "a,b,c=10,20,25"
   ]
  },
  {
   "cell_type": "code",
   "execution_count": 4,
   "metadata": {},
   "outputs": [
    {
     "name": "stdout",
     "output_type": "stream",
     "text": [
      "10 20 25\n"
     ]
    }
   ],
   "source": [
    "print(a,end=\" \")\n",
    "print(b, end=\" \")\n",
    "print(c)"
   ]
  },
  {
   "cell_type": "code",
   "execution_count": 5,
   "metadata": {},
   "outputs": [
    {
     "data": {
      "text/plain": [
       "(10, 20, 25)"
      ]
     },
     "execution_count": 5,
     "metadata": {},
     "output_type": "execute_result"
    }
   ],
   "source": [
    "a,b,c"
   ]
  },
  {
   "cell_type": "code",
   "execution_count": 6,
   "metadata": {},
   "outputs": [
    {
     "name": "stdout",
     "output_type": "stream",
     "text": [
      "a: 10 b: 20 c: 25\n"
     ]
    }
   ],
   "source": [
    "print(\"a:\",a,\"b:\",b,\"c:\",c)"
   ]
  },
  {
   "cell_type": "code",
   "execution_count": 7,
   "metadata": {},
   "outputs": [
    {
     "name": "stdout",
     "output_type": "stream",
     "text": [
      "['False', 'None', 'True', 'and', 'as', 'assert', 'async', 'await', 'break', 'class', 'continue', 'def', 'del', 'elif', 'else', 'except', 'finally', 'for', 'from', 'global', 'if', 'import', 'in', 'is', 'lambda', 'nonlocal', 'not', 'or', 'pass', 'raise', 'return', 'try', 'while', 'with', 'yield']\n"
     ]
    }
   ],
   "source": [
    "#Rule1:should not use key word as a variable\n",
    "import keyword\n",
    "print(keyword.kwlist)"
   ]
  },
  {
   "cell_type": "code",
   "execution_count": 9,
   "metadata": {},
   "outputs": [
    {
     "ename": "SyntaxError",
     "evalue": "cannot assign to False (<ipython-input-9-f28b550c5c7f>, line 1)",
     "output_type": "error",
     "traceback": [
      "\u001b[1;36m  File \u001b[1;32m\"<ipython-input-9-f28b550c5c7f>\"\u001b[1;36m, line \u001b[1;32m1\u001b[0m\n\u001b[1;33m    False =1\u001b[0m\n\u001b[1;37m    ^\u001b[0m\n\u001b[1;31mSyntaxError\u001b[0m\u001b[1;31m:\u001b[0m cannot assign to False\n"
     ]
    }
   ],
   "source": [
    "False =1"
   ]
  },
  {
   "cell_type": "code",
   "execution_count": 10,
   "metadata": {},
   "outputs": [
    {
     "ename": "SyntaxError",
     "evalue": "invalid syntax (<ipython-input-10-c25f017bc0b0>, line 2)",
     "output_type": "error",
     "traceback": [
      "\u001b[1;36m  File \u001b[1;32m\"<ipython-input-10-c25f017bc0b0>\"\u001b[1;36m, line \u001b[1;32m2\u001b[0m\n\u001b[1;33m    @a=10\u001b[0m\n\u001b[1;37m      ^\u001b[0m\n\u001b[1;31mSyntaxError\u001b[0m\u001b[1;31m:\u001b[0m invalid syntax\n"
     ]
    }
   ],
   "source": [
    "#Rule 2: no special characters to be used\n",
    "@a=10"
   ]
  },
  {
   "cell_type": "code",
   "execution_count": 11,
   "metadata": {},
   "outputs": [
    {
     "ename": "SyntaxError",
     "evalue": "invalid syntax (<ipython-input-11-9619a43977a7>, line 2)",
     "output_type": "error",
     "traceback": [
      "\u001b[1;36m  File \u001b[1;32m\"<ipython-input-11-9619a43977a7>\"\u001b[1;36m, line \u001b[1;32m2\u001b[0m\n\u001b[1;33m    11bs=34\u001b[0m\n\u001b[1;37m      ^\u001b[0m\n\u001b[1;31mSyntaxError\u001b[0m\u001b[1;31m:\u001b[0m invalid syntax\n"
     ]
    }
   ],
   "source": [
    "#Rule 3: nubmers should not be given\n",
    "11bs=34"
   ]
  },
  {
   "cell_type": "code",
   "execution_count": 13,
   "metadata": {},
   "outputs": [
    {
     "name": "stdout",
     "output_type": "stream",
     "text": [
      "a: 10 b: 20 c: 25\n"
     ]
    }
   ],
   "source": [
    "print(\"a:\",a,\"b:\",b,\"c:\",c)"
   ]
  },
  {
   "cell_type": "code",
   "execution_count": 14,
   "metadata": {},
   "outputs": [
    {
     "name": "stdout",
     "output_type": "stream",
     "text": [
      "value of a is 10,value of b is 20,value of c is 25\n"
     ]
    }
   ],
   "source": [
    "print(\"value of a is %d,value of b is %d,value of c is %d\"%(a,b,c))"
   ]
  },
  {
   "cell_type": "code",
   "execution_count": 15,
   "metadata": {},
   "outputs": [
    {
     "name": "stdout",
     "output_type": "stream",
     "text": [
      "value of a is 10,value of b is 20,value of c is 25\n"
     ]
    }
   ],
   "source": [
    "print(\"value of a is {},value of b is {},value of c is {}\".format(a,b,c))"
   ]
  },
  {
   "cell_type": "code",
   "execution_count": 16,
   "metadata": {},
   "outputs": [
    {
     "name": "stdout",
     "output_type": "stream",
     "text": [
      "value of a is 20,value of b is 25,value of c is 10\n"
     ]
    }
   ],
   "source": [
    "print(\"value of a is {1},value of b is {2},value of c is {0}\".format(a,b,c))"
   ]
  },
  {
   "cell_type": "markdown",
   "metadata": {},
   "source": [
    "# datatypes"
   ]
  },
  {
   "cell_type": "raw",
   "metadata": {},
   "source": [
    "1.fundamental\n",
    "\n",
    "    1.numbers\n",
    "        int float double\n",
    "    2.string----done\n",
    "    3.boolean\n",
    "    \n",
    "2.collection\n",
    "    1.Sequence----ordered\n",
    "        1.list----\n",
    "        2.tuple\n",
    "    2.non sequence\n",
    "        1. dictionaries \n",
    "        2.sets\n",
    "        "
   ]
  },
  {
   "cell_type": "code",
   "execution_count": null,
   "metadata": {},
   "outputs": [],
   "source": [
    "Properties\n",
    "homogenous,mutable,indexing,slicing,functions"
   ]
  },
  {
   "cell_type": "markdown",
   "metadata": {},
   "source": [
    "## Strings"
   ]
  },
  {
   "cell_type": "code",
   "execution_count": 17,
   "metadata": {},
   "outputs": [],
   "source": [
    "string=\"hie vit students ***** 12345\" "
   ]
  },
  {
   "cell_type": "code",
   "execution_count": 21,
   "metadata": {},
   "outputs": [
    {
     "data": {
      "text/plain": [
       "'hie vit students ***** 12345'"
      ]
     },
     "execution_count": 21,
     "metadata": {},
     "output_type": "execute_result"
    }
   ],
   "source": [
    "string"
   ]
  },
  {
   "cell_type": "markdown",
   "metadata": {},
   "source": [
    "### Indexing"
   ]
  },
  {
   "cell_type": "raw",
   "metadata": {},
   "source": [
    "hie vit students\n",
    "0 1 2 3 4 5 6 7 8 9 10 11..............................+ve indexing\n",
    "hie vit students\n",
    "............................-4-3-2-1----negative indexing\n",
    "\n",
    "In strings indexing is possible"
   ]
  },
  {
   "cell_type": "code",
   "execution_count": 22,
   "metadata": {},
   "outputs": [],
   "source": [
    "string=\"hie vit students\""
   ]
  },
  {
   "cell_type": "code",
   "execution_count": 24,
   "metadata": {},
   "outputs": [
    {
     "data": {
      "text/plain": [
       "' '"
      ]
     },
     "execution_count": 24,
     "metadata": {},
     "output_type": "execute_result"
    }
   ],
   "source": [
    "#positive indexing\n",
    "string[3]"
   ]
  },
  {
   "cell_type": "code",
   "execution_count": 25,
   "metadata": {},
   "outputs": [
    {
     "data": {
      "text/plain": [
       "'t'"
      ]
     },
     "execution_count": 25,
     "metadata": {},
     "output_type": "execute_result"
    }
   ],
   "source": [
    "#-ve indexing\n",
    "string[-2]"
   ]
  },
  {
   "cell_type": "code",
   "execution_count": 26,
   "metadata": {},
   "outputs": [
    {
     "data": {
      "text/plain": [
       "'u'"
      ]
     },
     "execution_count": 26,
     "metadata": {},
     "output_type": "execute_result"
    }
   ],
   "source": [
    "string[-6]"
   ]
  },
  {
   "cell_type": "code",
   "execution_count": 27,
   "metadata": {},
   "outputs": [
    {
     "data": {
      "text/plain": [
       "'h'"
      ]
     },
     "execution_count": 27,
     "metadata": {},
     "output_type": "execute_result"
    }
   ],
   "source": [
    "string[0]"
   ]
  },
  {
   "cell_type": "code",
   "execution_count": 35,
   "metadata": {},
   "outputs": [
    {
     "ename": "TypeError",
     "evalue": "'str' object does not support item assignment",
     "output_type": "error",
     "traceback": [
      "\u001b[1;31m---------------------------------------------------------------------------\u001b[0m",
      "\u001b[1;31mTypeError\u001b[0m                                 Traceback (most recent call last)",
      "\u001b[1;32m<ipython-input-35-15a5e96c290f>\u001b[0m in \u001b[0;36m<module>\u001b[1;34m\u001b[0m\n\u001b[0;32m      1\u001b[0m \u001b[1;31m#mutable---able to change the content in the string\u001b[0m\u001b[1;33m\u001b[0m\u001b[1;33m\u001b[0m\u001b[1;33m\u001b[0m\u001b[0m\n\u001b[0;32m      2\u001b[0m \u001b[1;31m#immutable--we cannot change\u001b[0m\u001b[1;33m\u001b[0m\u001b[1;33m\u001b[0m\u001b[1;33m\u001b[0m\u001b[0m\n\u001b[1;32m----> 3\u001b[1;33m \u001b[0mstring\u001b[0m\u001b[1;33m[\u001b[0m\u001b[1;36m0\u001b[0m\u001b[1;33m]\u001b[0m\u001b[1;33m=\u001b[0m\u001b[1;34m\"i\"\u001b[0m\u001b[1;33m\u001b[0m\u001b[1;33m\u001b[0m\u001b[0m\n\u001b[0m",
      "\u001b[1;31mTypeError\u001b[0m: 'str' object does not support item assignment"
     ]
    }
   ],
   "source": [
    "#mutable---able to change the content in the string\n",
    "#immutable--we cannot change\n",
    "string[0]=\"i\""
   ]
  },
  {
   "cell_type": "code",
   "execution_count": null,
   "metadata": {},
   "outputs": [],
   "source": []
  },
  {
   "cell_type": "raw",
   "metadata": {},
   "source": [
    "Strings are immutable"
   ]
  },
  {
   "cell_type": "markdown",
   "metadata": {},
   "source": [
    "### slicing"
   ]
  },
  {
   "cell_type": "raw",
   "metadata": {},
   "source": [
    "start slicing\n",
    "end slicing\n",
    "start and end slicing"
   ]
  },
  {
   "cell_type": "code",
   "execution_count": 28,
   "metadata": {},
   "outputs": [],
   "source": [
    "string=\"hie vit students\""
   ]
  },
  {
   "cell_type": "code",
   "execution_count": 30,
   "metadata": {},
   "outputs": [
    {
     "data": {
      "text/plain": [
       "'vit students'"
      ]
     },
     "execution_count": 30,
     "metadata": {},
     "output_type": "execute_result"
    }
   ],
   "source": [
    "string[4:] # str[start number :]--start slicing"
   ]
  },
  {
   "cell_type": "code",
   "execution_count": 31,
   "metadata": {},
   "outputs": [
    {
     "data": {
      "text/plain": [
       "'hie'"
      ]
     },
     "execution_count": 31,
     "metadata": {},
     "output_type": "execute_result"
    }
   ],
   "source": [
    "string[:3] #str[:n+1]---end slicing"
   ]
  },
  {
   "cell_type": "code",
   "execution_count": 32,
   "metadata": {},
   "outputs": [
    {
     "data": {
      "text/plain": [
       "'vit stu'"
      ]
     },
     "execution_count": 32,
     "metadata": {},
     "output_type": "execute_result"
    }
   ],
   "source": [
    "#start and end slicing\n",
    "string[4:11]"
   ]
  },
  {
   "cell_type": "raw",
   "metadata": {},
   "source": [
    "-----slicing is possible in strings"
   ]
  },
  {
   "cell_type": "code",
   "execution_count": 44,
   "metadata": {},
   "outputs": [
    {
     "data": {
      "text/plain": [
       "['__add__',\n",
       " '__class__',\n",
       " '__contains__',\n",
       " '__delattr__',\n",
       " '__dir__',\n",
       " '__doc__',\n",
       " '__eq__',\n",
       " '__format__',\n",
       " '__ge__',\n",
       " '__getattribute__',\n",
       " '__getitem__',\n",
       " '__getnewargs__',\n",
       " '__gt__',\n",
       " '__hash__',\n",
       " '__init__',\n",
       " '__init_subclass__',\n",
       " '__iter__',\n",
       " '__le__',\n",
       " '__len__',\n",
       " '__lt__',\n",
       " '__mod__',\n",
       " '__mul__',\n",
       " '__ne__',\n",
       " '__new__',\n",
       " '__reduce__',\n",
       " '__reduce_ex__',\n",
       " '__repr__',\n",
       " '__rmod__',\n",
       " '__rmul__',\n",
       " '__setattr__',\n",
       " '__sizeof__',\n",
       " '__str__',\n",
       " '__subclasshook__',\n",
       " 'capitalize',\n",
       " 'casefold',\n",
       " 'center',\n",
       " 'count',\n",
       " 'encode',\n",
       " 'endswith',\n",
       " 'expandtabs',\n",
       " 'find',\n",
       " 'format',\n",
       " 'format_map',\n",
       " 'index',\n",
       " 'isalnum',\n",
       " 'isalpha',\n",
       " 'isascii',\n",
       " 'isdecimal',\n",
       " 'isdigit',\n",
       " 'isidentifier',\n",
       " 'islower',\n",
       " 'isnumeric',\n",
       " 'isprintable',\n",
       " 'isspace',\n",
       " 'istitle',\n",
       " 'isupper',\n",
       " 'join',\n",
       " 'ljust',\n",
       " 'lower',\n",
       " 'lstrip',\n",
       " 'maketrans',\n",
       " 'partition',\n",
       " 'replace',\n",
       " 'rfind',\n",
       " 'rindex',\n",
       " 'rjust',\n",
       " 'rpartition',\n",
       " 'rsplit',\n",
       " 'rstrip',\n",
       " 'split',\n",
       " 'splitlines',\n",
       " 'startswith',\n",
       " 'strip',\n",
       " 'swapcase',\n",
       " 'title',\n",
       " 'translate',\n",
       " 'upper',\n",
       " 'zfill']"
      ]
     },
     "execution_count": 44,
     "metadata": {},
     "output_type": "execute_result"
    }
   ],
   "source": [
    "dir(str)"
   ]
  },
  {
   "cell_type": "code",
   "execution_count": 35,
   "metadata": {},
   "outputs": [
    {
     "data": {
      "text/plain": [
       "'Hie vit students'"
      ]
     },
     "execution_count": 35,
     "metadata": {},
     "output_type": "execute_result"
    }
   ],
   "source": [
    "#variable name.fucntion name()\n",
    "string.capitalize()"
   ]
  },
  {
   "cell_type": "code",
   "execution_count": 48,
   "metadata": {},
   "outputs": [
    {
     "data": {
      "text/plain": [
       "'hie vit students'"
      ]
     },
     "execution_count": 48,
     "metadata": {},
     "output_type": "execute_result"
    }
   ],
   "source": [
    "string.casefold()"
   ]
  },
  {
   "cell_type": "code",
   "execution_count": 36,
   "metadata": {},
   "outputs": [
    {
     "data": {
      "text/plain": [
       "'*******banana*******'"
      ]
     },
     "execution_count": 36,
     "metadata": {},
     "output_type": "execute_result"
    }
   ],
   "source": [
    "text=\"banana\"\n",
    "p=text.center(20,\"*\")\n",
    "p"
   ]
  },
  {
   "cell_type": "code",
   "execution_count": 37,
   "metadata": {},
   "outputs": [
    {
     "data": {
      "text/plain": [
       "1"
      ]
     },
     "execution_count": 37,
     "metadata": {},
     "output_type": "execute_result"
    }
   ],
   "source": [
    "text=\"i love apple,apples are good for good health\"\n",
    "p=text.count(\"apples\")\n",
    "p"
   ]
  },
  {
   "cell_type": "code",
   "execution_count": 40,
   "metadata": {},
   "outputs": [
    {
     "data": {
      "text/plain": [
       "['i', 'love', 'apple,apples', 'are', 'good', 'for', 'good', 'health']"
      ]
     },
     "execution_count": 40,
     "metadata": {},
     "output_type": "execute_result"
    }
   ],
   "source": [
    "q=text.split()\n",
    "q"
   ]
  },
  {
   "cell_type": "code",
   "execution_count": 41,
   "metadata": {},
   "outputs": [],
   "source": [
    "x=text.find(\"good\")"
   ]
  },
  {
   "cell_type": "code",
   "execution_count": 42,
   "metadata": {},
   "outputs": [
    {
     "data": {
      "text/plain": [
       "24"
      ]
     },
     "execution_count": 42,
     "metadata": {},
     "output_type": "execute_result"
    }
   ],
   "source": [
    "x"
   ]
  },
  {
   "cell_type": "markdown",
   "metadata": {},
   "source": [
    "# Lists"
   ]
  },
  {
   "cell_type": "code",
   "execution_count": 43,
   "metadata": {},
   "outputs": [],
   "source": [
    "p=[1,2,3,\"tulasi\",\"smart bridge\"]# heterogenous data"
   ]
  },
  {
   "cell_type": "code",
   "execution_count": 44,
   "metadata": {},
   "outputs": [
    {
     "data": {
      "text/plain": [
       "[1, 2, 3, 'tulasi', 'smart bridge']"
      ]
     },
     "execution_count": 44,
     "metadata": {},
     "output_type": "execute_result"
    }
   ],
   "source": [
    "p"
   ]
  },
  {
   "cell_type": "code",
   "execution_count": 45,
   "metadata": {},
   "outputs": [
    {
     "data": {
      "text/plain": [
       "list"
      ]
     },
     "execution_count": 45,
     "metadata": {},
     "output_type": "execute_result"
    }
   ],
   "source": [
    "type(p)"
   ]
  },
  {
   "cell_type": "code",
   "execution_count": 46,
   "metadata": {},
   "outputs": [
    {
     "data": {
      "text/plain": [
       "'smart bridge'"
      ]
     },
     "execution_count": 46,
     "metadata": {},
     "output_type": "execute_result"
    }
   ],
   "source": [
    "#is indexing possible----yes\n",
    "p[4]"
   ]
  },
  {
   "cell_type": "code",
   "execution_count": 47,
   "metadata": {},
   "outputs": [
    {
     "data": {
      "text/plain": [
       "str"
      ]
     },
     "execution_count": 47,
     "metadata": {},
     "output_type": "execute_result"
    }
   ],
   "source": [
    "type(p[4])"
   ]
  },
  {
   "cell_type": "code",
   "execution_count": 48,
   "metadata": {},
   "outputs": [
    {
     "data": {
      "text/plain": [
       "int"
      ]
     },
     "execution_count": 48,
     "metadata": {},
     "output_type": "execute_result"
    }
   ],
   "source": [
    "type(p[1])"
   ]
  },
  {
   "cell_type": "code",
   "execution_count": 49,
   "metadata": {},
   "outputs": [
    {
     "data": {
      "text/plain": [
       "[1, 2, 3, 'tulasi', 'smart bridge']"
      ]
     },
     "execution_count": 49,
     "metadata": {},
     "output_type": "execute_result"
    }
   ],
   "source": [
    "#is slicing possible----yes\n",
    "p"
   ]
  },
  {
   "cell_type": "code",
   "execution_count": 50,
   "metadata": {},
   "outputs": [
    {
     "data": {
      "text/plain": [
       "[2, 3, 'tulasi']"
      ]
     },
     "execution_count": 50,
     "metadata": {},
     "output_type": "execute_result"
    }
   ],
   "source": [
    "p[1:4]"
   ]
  },
  {
   "cell_type": "code",
   "execution_count": 81,
   "metadata": {},
   "outputs": [
    {
     "data": {
      "text/plain": [
       "['__add__',\n",
       " '__class__',\n",
       " '__contains__',\n",
       " '__delattr__',\n",
       " '__delitem__',\n",
       " '__dir__',\n",
       " '__doc__',\n",
       " '__eq__',\n",
       " '__format__',\n",
       " '__ge__',\n",
       " '__getattribute__',\n",
       " '__getitem__',\n",
       " '__gt__',\n",
       " '__hash__',\n",
       " '__iadd__',\n",
       " '__imul__',\n",
       " '__init__',\n",
       " '__init_subclass__',\n",
       " '__iter__',\n",
       " '__le__',\n",
       " '__len__',\n",
       " '__lt__',\n",
       " '__mul__',\n",
       " '__ne__',\n",
       " '__new__',\n",
       " '__reduce__',\n",
       " '__reduce_ex__',\n",
       " '__repr__',\n",
       " '__reversed__',\n",
       " '__rmul__',\n",
       " '__setattr__',\n",
       " '__setitem__',\n",
       " '__sizeof__',\n",
       " '__str__',\n",
       " '__subclasshook__',\n",
       " 'append',\n",
       " 'clear',\n",
       " 'copy',\n",
       " 'count',\n",
       " 'extend',\n",
       " 'index',\n",
       " 'insert',\n",
       " 'pop',\n",
       " 'remove',\n",
       " 'reverse',\n",
       " 'sort']"
      ]
     },
     "execution_count": 81,
     "metadata": {},
     "output_type": "execute_result"
    }
   ],
   "source": [
    "dir(p)"
   ]
  },
  {
   "cell_type": "code",
   "execution_count": 82,
   "metadata": {},
   "outputs": [
    {
     "data": {
      "text/plain": [
       "[1, 2, 3, 'tulasi', 'smart bridge']"
      ]
     },
     "execution_count": 82,
     "metadata": {},
     "output_type": "execute_result"
    }
   ],
   "source": [
    "p"
   ]
  },
  {
   "cell_type": "code",
   "execution_count": 83,
   "metadata": {},
   "outputs": [
    {
     "data": {
      "text/plain": [
       "5"
      ]
     },
     "execution_count": 83,
     "metadata": {},
     "output_type": "execute_result"
    }
   ],
   "source": [
    "len(p)"
   ]
  },
  {
   "cell_type": "code",
   "execution_count": 51,
   "metadata": {},
   "outputs": [],
   "source": [
    "#variablename.function name()\n",
    "p.append(9)"
   ]
  },
  {
   "cell_type": "code",
   "execution_count": 52,
   "metadata": {},
   "outputs": [
    {
     "data": {
      "text/plain": [
       "[1, 2, 3, 'tulasi', 'smart bridge', 9]"
      ]
     },
     "execution_count": 52,
     "metadata": {},
     "output_type": "execute_result"
    }
   ],
   "source": [
    "p"
   ]
  },
  {
   "cell_type": "code",
   "execution_count": 86,
   "metadata": {},
   "outputs": [],
   "source": [
    "p.append([1,2,3])"
   ]
  },
  {
   "cell_type": "code",
   "execution_count": 87,
   "metadata": {},
   "outputs": [
    {
     "data": {
      "text/plain": [
       "[1, 2, 3, 'tulasi', 'smart bridge', 9, [1, 2, 3]]"
      ]
     },
     "execution_count": 87,
     "metadata": {},
     "output_type": "execute_result"
    }
   ],
   "source": [
    "p"
   ]
  },
  {
   "cell_type": "code",
   "execution_count": 53,
   "metadata": {},
   "outputs": [],
   "source": [
    "p.extend([1,2,3])"
   ]
  },
  {
   "cell_type": "code",
   "execution_count": 54,
   "metadata": {},
   "outputs": [
    {
     "data": {
      "text/plain": [
       "[1, 2, 3, 'tulasi', 'smart bridge', 9, 1, 2, 3]"
      ]
     },
     "execution_count": 54,
     "metadata": {},
     "output_type": "execute_result"
    }
   ],
   "source": [
    "p"
   ]
  },
  {
   "cell_type": "code",
   "execution_count": 55,
   "metadata": {},
   "outputs": [
    {
     "data": {
      "text/plain": [
       "[1, 2, 3, 'tulasi', 'smart bridge', 9, 1, 2, 'vit', 3]"
      ]
     },
     "execution_count": 55,
     "metadata": {},
     "output_type": "execute_result"
    }
   ],
   "source": [
    "p.insert(8,\"vit\")#duplication is also possible\n",
    "p"
   ]
  },
  {
   "cell_type": "code",
   "execution_count": 56,
   "metadata": {},
   "outputs": [
    {
     "data": {
      "text/plain": [
       "4"
      ]
     },
     "execution_count": 56,
     "metadata": {},
     "output_type": "execute_result"
    }
   ],
   "source": [
    "p.index(\"smart bridge\")"
   ]
  },
  {
   "cell_type": "code",
   "execution_count": 57,
   "metadata": {},
   "outputs": [],
   "source": [
    "p.remove(\"tulasi\")"
   ]
  },
  {
   "cell_type": "code",
   "execution_count": 58,
   "metadata": {},
   "outputs": [
    {
     "data": {
      "text/plain": [
       "[1, 2, 3, 'smart bridge', 9, 1, 2, 'vit', 3]"
      ]
     },
     "execution_count": 58,
     "metadata": {},
     "output_type": "execute_result"
    }
   ],
   "source": [
    "p"
   ]
  },
  {
   "cell_type": "code",
   "execution_count": 60,
   "metadata": {},
   "outputs": [],
   "source": [
    "z=[1,2,3,4,5]"
   ]
  },
  {
   "cell_type": "code",
   "execution_count": 61,
   "metadata": {},
   "outputs": [],
   "source": [
    "z.reverse()"
   ]
  },
  {
   "cell_type": "code",
   "execution_count": 62,
   "metadata": {},
   "outputs": [
    {
     "data": {
      "text/plain": [
       "[5, 4, 3, 2, 1]"
      ]
     },
     "execution_count": 62,
     "metadata": {},
     "output_type": "execute_result"
    }
   ],
   "source": [
    "z"
   ]
  },
  {
   "cell_type": "code",
   "execution_count": 63,
   "metadata": {},
   "outputs": [],
   "source": [
    "p.reverse()"
   ]
  },
  {
   "cell_type": "code",
   "execution_count": 64,
   "metadata": {},
   "outputs": [
    {
     "data": {
      "text/plain": [
       "[3, 'vit', 2, 1, 9, 'smart bridge', 3, 2, 1]"
      ]
     },
     "execution_count": 64,
     "metadata": {},
     "output_type": "execute_result"
    }
   ],
   "source": [
    "p"
   ]
  },
  {
   "cell_type": "code",
   "execution_count": 65,
   "metadata": {},
   "outputs": [],
   "source": [
    "p.clear()"
   ]
  },
  {
   "cell_type": "code",
   "execution_count": 66,
   "metadata": {},
   "outputs": [
    {
     "data": {
      "text/plain": [
       "[]"
      ]
     },
     "execution_count": 66,
     "metadata": {},
     "output_type": "execute_result"
    }
   ],
   "source": [
    "p"
   ]
  },
  {
   "cell_type": "code",
   "execution_count": 67,
   "metadata": {},
   "outputs": [],
   "source": [
    "p=z.copy()"
   ]
  },
  {
   "cell_type": "code",
   "execution_count": 68,
   "metadata": {},
   "outputs": [
    {
     "data": {
      "text/plain": [
       "[5, 4, 3, 2, 1]"
      ]
     },
     "execution_count": 68,
     "metadata": {},
     "output_type": "execute_result"
    }
   ],
   "source": [
    "p"
   ]
  },
  {
   "cell_type": "markdown",
   "metadata": {},
   "source": [
    "# tuple"
   ]
  },
  {
   "cell_type": "code",
   "execution_count": 1,
   "metadata": {},
   "outputs": [],
   "source": [
    "#ordered,unchangable and allow duplicaiton\n",
    "#()\n",
    "t=(5,8,9,\"smartbridge\",10.2)#---heterogenous"
   ]
  },
  {
   "cell_type": "code",
   "execution_count": 69,
   "metadata": {},
   "outputs": [],
   "source": [
    "t=(5,8,9,\"smartbridge\",10.2,10.2)"
   ]
  },
  {
   "cell_type": "code",
   "execution_count": 70,
   "metadata": {},
   "outputs": [
    {
     "data": {
      "text/plain": [
       "(5, 8, 9, 'smartbridge', 10.2, 10.2)"
      ]
     },
     "execution_count": 70,
     "metadata": {},
     "output_type": "execute_result"
    }
   ],
   "source": [
    "t"
   ]
  },
  {
   "cell_type": "code",
   "execution_count": 71,
   "metadata": {},
   "outputs": [
    {
     "data": {
      "text/plain": [
       "tuple"
      ]
     },
     "execution_count": 71,
     "metadata": {},
     "output_type": "execute_result"
    }
   ],
   "source": [
    "type(t)"
   ]
  },
  {
   "cell_type": "code",
   "execution_count": 72,
   "metadata": {},
   "outputs": [
    {
     "data": {
      "text/plain": [
       "'smartbridge'"
      ]
     },
     "execution_count": 72,
     "metadata": {},
     "output_type": "execute_result"
    }
   ],
   "source": [
    "#is indexing possible-----yes\n",
    "t[3]"
   ]
  },
  {
   "cell_type": "code",
   "execution_count": 73,
   "metadata": {},
   "outputs": [
    {
     "ename": "TypeError",
     "evalue": "'tuple' object does not support item assignment",
     "output_type": "error",
     "traceback": [
      "\u001b[1;31m---------------------------------------------------------------------------\u001b[0m",
      "\u001b[1;31mTypeError\u001b[0m                                 Traceback (most recent call last)",
      "\u001b[1;32m<ipython-input-73-425dd1522626>\u001b[0m in \u001b[0;36m<module>\u001b[1;34m\u001b[0m\n\u001b[0;32m      1\u001b[0m \u001b[1;31m#immutable\u001b[0m\u001b[1;33m\u001b[0m\u001b[1;33m\u001b[0m\u001b[1;33m\u001b[0m\u001b[0m\n\u001b[1;32m----> 2\u001b[1;33m \u001b[0mt\u001b[0m\u001b[1;33m[\u001b[0m\u001b[1;36m3\u001b[0m\u001b[1;33m]\u001b[0m\u001b[1;33m=\u001b[0m\u001b[1;34m\"vit\"\u001b[0m\u001b[1;33m\u001b[0m\u001b[1;33m\u001b[0m\u001b[0m\n\u001b[0m",
      "\u001b[1;31mTypeError\u001b[0m: 'tuple' object does not support item assignment"
     ]
    }
   ],
   "source": [
    "#immutable\n",
    "t[3]=\"vit\""
   ]
  },
  {
   "cell_type": "code",
   "execution_count": 74,
   "metadata": {},
   "outputs": [
    {
     "data": {
      "text/plain": [
       "(9, 'smartbridge', 10.2)"
      ]
     },
     "execution_count": 74,
     "metadata": {},
     "output_type": "execute_result"
    }
   ],
   "source": [
    "#is slicing----yes\n",
    "t[2:5]"
   ]
  },
  {
   "cell_type": "code",
   "execution_count": 75,
   "metadata": {},
   "outputs": [
    {
     "data": {
      "text/plain": [
       "(8, 9)"
      ]
     },
     "execution_count": 75,
     "metadata": {},
     "output_type": "execute_result"
    }
   ],
   "source": [
    "t[1:3]"
   ]
  },
  {
   "cell_type": "code",
   "execution_count": 76,
   "metadata": {},
   "outputs": [
    {
     "data": {
      "text/plain": [
       "('smartbridge', 10.2, 10.2)"
      ]
     },
     "execution_count": 76,
     "metadata": {},
     "output_type": "execute_result"
    }
   ],
   "source": [
    "t[3:]"
   ]
  },
  {
   "cell_type": "code",
   "execution_count": 77,
   "metadata": {},
   "outputs": [],
   "source": [
    "#convert tuple into a list\n",
    "a=list(t)"
   ]
  },
  {
   "cell_type": "code",
   "execution_count": 78,
   "metadata": {},
   "outputs": [
    {
     "data": {
      "text/plain": [
       "(5, 8, 9, 'smartbridge', 10.2, 10.2)"
      ]
     },
     "execution_count": 78,
     "metadata": {},
     "output_type": "execute_result"
    }
   ],
   "source": [
    "t"
   ]
  },
  {
   "cell_type": "code",
   "execution_count": 79,
   "metadata": {},
   "outputs": [
    {
     "data": {
      "text/plain": [
       "[5, 8, 9, 'smartbridge', 10.2, 10.2]"
      ]
     },
     "execution_count": 79,
     "metadata": {},
     "output_type": "execute_result"
    }
   ],
   "source": [
    "a"
   ]
  },
  {
   "cell_type": "code",
   "execution_count": 80,
   "metadata": {},
   "outputs": [
    {
     "data": {
      "text/plain": [
       "list"
      ]
     },
     "execution_count": 80,
     "metadata": {},
     "output_type": "execute_result"
    }
   ],
   "source": [
    "type(a)"
   ]
  },
  {
   "cell_type": "code",
   "execution_count": 14,
   "metadata": {},
   "outputs": [
    {
     "data": {
      "text/plain": [
       "['__add__',\n",
       " '__class__',\n",
       " '__contains__',\n",
       " '__delattr__',\n",
       " '__dir__',\n",
       " '__doc__',\n",
       " '__eq__',\n",
       " '__format__',\n",
       " '__ge__',\n",
       " '__getattribute__',\n",
       " '__getitem__',\n",
       " '__getnewargs__',\n",
       " '__gt__',\n",
       " '__hash__',\n",
       " '__init__',\n",
       " '__init_subclass__',\n",
       " '__iter__',\n",
       " '__le__',\n",
       " '__len__',\n",
       " '__lt__',\n",
       " '__mul__',\n",
       " '__ne__',\n",
       " '__new__',\n",
       " '__reduce__',\n",
       " '__reduce_ex__',\n",
       " '__repr__',\n",
       " '__rmul__',\n",
       " '__setattr__',\n",
       " '__sizeof__',\n",
       " '__str__',\n",
       " '__subclasshook__',\n",
       " 'count',\n",
       " 'index']"
      ]
     },
     "execution_count": 14,
     "metadata": {},
     "output_type": "execute_result"
    }
   ],
   "source": [
    "dir(t)"
   ]
  },
  {
   "cell_type": "code",
   "execution_count": 15,
   "metadata": {},
   "outputs": [
    {
     "data": {
      "text/plain": [
       "(5, 8, 9, 'smartbridge', 10.2, 10.2)"
      ]
     },
     "execution_count": 15,
     "metadata": {},
     "output_type": "execute_result"
    }
   ],
   "source": [
    "t"
   ]
  },
  {
   "cell_type": "code",
   "execution_count": 17,
   "metadata": {},
   "outputs": [
    {
     "data": {
      "text/plain": [
       "2"
      ]
     },
     "execution_count": 17,
     "metadata": {},
     "output_type": "execute_result"
    }
   ],
   "source": [
    "t.count(10.2)"
   ]
  },
  {
   "cell_type": "code",
   "execution_count": 18,
   "metadata": {},
   "outputs": [
    {
     "data": {
      "text/plain": [
       "0"
      ]
     },
     "execution_count": 18,
     "metadata": {},
     "output_type": "execute_result"
    }
   ],
   "source": [
    "t.count(10)"
   ]
  },
  {
   "cell_type": "code",
   "execution_count": 19,
   "metadata": {},
   "outputs": [
    {
     "data": {
      "text/plain": [
       "3"
      ]
     },
     "execution_count": 19,
     "metadata": {},
     "output_type": "execute_result"
    }
   ],
   "source": [
    "t.index(\"smartbridge\")"
   ]
  },
  {
   "cell_type": "code",
   "execution_count": 81,
   "metadata": {},
   "outputs": [
    {
     "data": {
      "text/plain": [
       "(1, 2, 3, 5, 8, 9, 'smartbridge', 10.2, 10.2)"
      ]
     },
     "execution_count": 81,
     "metadata": {},
     "output_type": "execute_result"
    }
   ],
   "source": [
    "y=(1,2,3)\n",
    "c=y+t\n",
    "c"
   ]
  },
  {
   "cell_type": "code",
   "execution_count": null,
   "metadata": {},
   "outputs": [],
   "source": [
    "f=(\"apple\",\"bannana\",\"grapes\")\n"
   ]
  },
  {
   "cell_type": "code",
   "execution_count": 23,
   "metadata": {},
   "outputs": [
    {
     "data": {
      "text/plain": [
       "(5, 8, 9, 'smartbridge', 10.2, 10.2)"
      ]
     },
     "execution_count": 23,
     "metadata": {},
     "output_type": "execute_result"
    }
   ],
   "source": [
    "t=tuple(a)\n",
    "t"
   ]
  },
  {
   "cell_type": "markdown",
   "metadata": {},
   "source": [
    "# dictionary"
   ]
  },
  {
   "cell_type": "code",
   "execution_count": 82,
   "metadata": {},
   "outputs": [],
   "source": [
    "#key:value    are unordered\n",
    "cricket={\"captain\":\"virat\",\"bowler\":\"sachin\",\"keeper\":\"dhoni\"}#heterogenous"
   ]
  },
  {
   "cell_type": "code",
   "execution_count": 83,
   "metadata": {},
   "outputs": [
    {
     "data": {
      "text/plain": [
       "{'captain': 'virat', 'bowler': 'sachin', 'keeper': 'dhoni'}"
      ]
     },
     "execution_count": 83,
     "metadata": {},
     "output_type": "execute_result"
    }
   ],
   "source": [
    "cricket"
   ]
  },
  {
   "cell_type": "code",
   "execution_count": 84,
   "metadata": {},
   "outputs": [
    {
     "data": {
      "text/plain": [
       "dict"
      ]
     },
     "execution_count": 84,
     "metadata": {},
     "output_type": "execute_result"
    }
   ],
   "source": [
    "type(cricket)"
   ]
  },
  {
   "cell_type": "code",
   "execution_count": 31,
   "metadata": {},
   "outputs": [
    {
     "data": {
      "text/plain": [
       "'virat'"
      ]
     },
     "execution_count": 31,
     "metadata": {},
     "output_type": "execute_result"
    }
   ],
   "source": [
    "cricket[\"captain\"]"
   ]
  },
  {
   "cell_type": "code",
   "execution_count": 85,
   "metadata": {
    "scrolled": true
   },
   "outputs": [
    {
     "data": {
      "text/plain": [
       "'virat'"
      ]
     },
     "execution_count": 85,
     "metadata": {},
     "output_type": "execute_result"
    }
   ],
   "source": [
    "cricket.get(\"captain\")"
   ]
  },
  {
   "cell_type": "code",
   "execution_count": 86,
   "metadata": {},
   "outputs": [
    {
     "data": {
      "text/plain": [
       "['__class__',\n",
       " '__contains__',\n",
       " '__delattr__',\n",
       " '__delitem__',\n",
       " '__dir__',\n",
       " '__doc__',\n",
       " '__eq__',\n",
       " '__format__',\n",
       " '__ge__',\n",
       " '__getattribute__',\n",
       " '__getitem__',\n",
       " '__gt__',\n",
       " '__hash__',\n",
       " '__init__',\n",
       " '__init_subclass__',\n",
       " '__iter__',\n",
       " '__le__',\n",
       " '__len__',\n",
       " '__lt__',\n",
       " '__ne__',\n",
       " '__new__',\n",
       " '__reduce__',\n",
       " '__reduce_ex__',\n",
       " '__repr__',\n",
       " '__reversed__',\n",
       " '__setattr__',\n",
       " '__setitem__',\n",
       " '__sizeof__',\n",
       " '__str__',\n",
       " '__subclasshook__',\n",
       " 'clear',\n",
       " 'copy',\n",
       " 'fromkeys',\n",
       " 'get',\n",
       " 'items',\n",
       " 'keys',\n",
       " 'pop',\n",
       " 'popitem',\n",
       " 'setdefault',\n",
       " 'update',\n",
       " 'values']"
      ]
     },
     "execution_count": 86,
     "metadata": {},
     "output_type": "execute_result"
    }
   ],
   "source": [
    "dir(cricket)"
   ]
  },
  {
   "cell_type": "code",
   "execution_count": 36,
   "metadata": {},
   "outputs": [
    {
     "data": {
      "text/plain": [
       "{'captain': 'virat', 'bowler': 'sachin', 'keeper': 'dhoni'}"
      ]
     },
     "execution_count": 36,
     "metadata": {},
     "output_type": "execute_result"
    }
   ],
   "source": [
    "cricket"
   ]
  },
  {
   "cell_type": "code",
   "execution_count": 35,
   "metadata": {},
   "outputs": [
    {
     "data": {
      "text/plain": [
       "dict_keys(['captain', 'bowler', 'keeper'])"
      ]
     },
     "execution_count": 35,
     "metadata": {},
     "output_type": "execute_result"
    }
   ],
   "source": [
    "cricket.keys()"
   ]
  },
  {
   "cell_type": "code",
   "execution_count": 37,
   "metadata": {},
   "outputs": [
    {
     "data": {
      "text/plain": [
       "dict_values(['virat', 'sachin', 'dhoni'])"
      ]
     },
     "execution_count": 37,
     "metadata": {},
     "output_type": "execute_result"
    }
   ],
   "source": [
    "cricket.values()"
   ]
  },
  {
   "cell_type": "code",
   "execution_count": 38,
   "metadata": {},
   "outputs": [
    {
     "data": {
      "text/plain": [
       "dict_items([('captain', 'virat'), ('bowler', 'sachin'), ('keeper', 'dhoni')])"
      ]
     },
     "execution_count": 38,
     "metadata": {},
     "output_type": "execute_result"
    }
   ],
   "source": [
    "cricket.items()"
   ]
  },
  {
   "cell_type": "code",
   "execution_count": 87,
   "metadata": {},
   "outputs": [],
   "source": [
    "#is dictionary mutable-----yes\n",
    "cricket[\"captain\"]=\"tulsi\""
   ]
  },
  {
   "cell_type": "code",
   "execution_count": 88,
   "metadata": {},
   "outputs": [
    {
     "data": {
      "text/plain": [
       "{'captain': 'tulsi', 'bowler': 'sachin', 'keeper': 'dhoni'}"
      ]
     },
     "execution_count": 88,
     "metadata": {},
     "output_type": "execute_result"
    }
   ],
   "source": [
    "cricket"
   ]
  },
  {
   "cell_type": "code",
   "execution_count": 92,
   "metadata": {},
   "outputs": [],
   "source": [
    "n={1:2}"
   ]
  },
  {
   "cell_type": "code",
   "execution_count": 93,
   "metadata": {},
   "outputs": [],
   "source": [
    "cricket.update(n)"
   ]
  },
  {
   "cell_type": "code",
   "execution_count": 94,
   "metadata": {},
   "outputs": [
    {
     "data": {
      "text/plain": [
       "{'captain': 'tulsi', 'bowler': 'sachin', 'keeper': 'dhoni', 1: 2}"
      ]
     },
     "execution_count": 94,
     "metadata": {},
     "output_type": "execute_result"
    }
   ],
   "source": [
    "cricket"
   ]
  },
  {
   "cell_type": "code",
   "execution_count": 95,
   "metadata": {},
   "outputs": [],
   "source": [
    "cricket.clear()"
   ]
  },
  {
   "cell_type": "code",
   "execution_count": 96,
   "metadata": {},
   "outputs": [
    {
     "data": {
      "text/plain": [
       "{}"
      ]
     },
     "execution_count": 96,
     "metadata": {},
     "output_type": "execute_result"
    }
   ],
   "source": [
    "cricket"
   ]
  },
  {
   "cell_type": "code",
   "execution_count": 97,
   "metadata": {},
   "outputs": [],
   "source": [
    "d={\"empname\":\"Tulasi\",\"salary\":\"2k\",\"expereince\":6,\"designation\":\"analyst\"}"
   ]
  },
  {
   "cell_type": "code",
   "execution_count": 98,
   "metadata": {},
   "outputs": [
    {
     "data": {
      "text/plain": [
       "{'empname': 'Tulasi',\n",
       " 'salary': '2k',\n",
       " 'expereince': 6,\n",
       " 'designation': 'analyst'}"
      ]
     },
     "execution_count": 98,
     "metadata": {},
     "output_type": "execute_result"
    }
   ],
   "source": [
    "d"
   ]
  },
  {
   "cell_type": "code",
   "execution_count": 99,
   "metadata": {},
   "outputs": [
    {
     "data": {
      "text/plain": [
       "'Tulasi'"
      ]
     },
     "execution_count": 99,
     "metadata": {},
     "output_type": "execute_result"
    }
   ],
   "source": [
    "d.get(\"empname\")"
   ]
  },
  {
   "cell_type": "code",
   "execution_count": 100,
   "metadata": {},
   "outputs": [],
   "source": [
    "f=d.copy()"
   ]
  },
  {
   "cell_type": "code",
   "execution_count": 101,
   "metadata": {},
   "outputs": [
    {
     "data": {
      "text/plain": [
       "{'empname': 'Tulasi',\n",
       " 'salary': '2k',\n",
       " 'expereince': 6,\n",
       " 'designation': 'analyst'}"
      ]
     },
     "execution_count": 101,
     "metadata": {},
     "output_type": "execute_result"
    }
   ],
   "source": [
    "f"
   ]
  },
  {
   "cell_type": "code",
   "execution_count": 51,
   "metadata": {},
   "outputs": [
    {
     "data": {
      "text/plain": [
       "2108592630464"
      ]
     },
     "execution_count": 51,
     "metadata": {},
     "output_type": "execute_result"
    }
   ],
   "source": [
    "id(d)"
   ]
  },
  {
   "cell_type": "code",
   "execution_count": 52,
   "metadata": {},
   "outputs": [
    {
     "data": {
      "text/plain": [
       "2108592641728"
      ]
     },
     "execution_count": 52,
     "metadata": {},
     "output_type": "execute_result"
    }
   ],
   "source": [
    "id(f)"
   ]
  },
  {
   "cell_type": "code",
   "execution_count": 102,
   "metadata": {},
   "outputs": [],
   "source": [
    "dict=d.fromkeys(d)"
   ]
  },
  {
   "cell_type": "code",
   "execution_count": 103,
   "metadata": {},
   "outputs": [
    {
     "data": {
      "text/plain": [
       "{'empname': None, 'salary': None, 'expereince': None, 'designation': None}"
      ]
     },
     "execution_count": 103,
     "metadata": {},
     "output_type": "execute_result"
    }
   ],
   "source": [
    "dict"
   ]
  },
  {
   "cell_type": "code",
   "execution_count": null,
   "metadata": {},
   "outputs": [],
   "source": [
    "---no indexing and no slicing"
   ]
  },
  {
   "cell_type": "code",
   "execution_count": 104,
   "metadata": {},
   "outputs": [
    {
     "data": {
      "text/plain": [
       "{'empname': 'Tulasi',\n",
       " 'salary': '2k',\n",
       " 'expereince': 6,\n",
       " 'designation': 'analyst'}"
      ]
     },
     "execution_count": 104,
     "metadata": {},
     "output_type": "execute_result"
    }
   ],
   "source": [
    "d"
   ]
  },
  {
   "cell_type": "code",
   "execution_count": 105,
   "metadata": {},
   "outputs": [
    {
     "ename": "TypeError",
     "evalue": "pop expected at least 1 argument, got 0",
     "output_type": "error",
     "traceback": [
      "\u001b[1;31m---------------------------------------------------------------------------\u001b[0m",
      "\u001b[1;31mTypeError\u001b[0m                                 Traceback (most recent call last)",
      "\u001b[1;32m<ipython-input-105-663961784a31>\u001b[0m in \u001b[0;36m<module>\u001b[1;34m\u001b[0m\n\u001b[1;32m----> 1\u001b[1;33m \u001b[0md\u001b[0m\u001b[1;33m.\u001b[0m\u001b[0mpop\u001b[0m\u001b[1;33m(\u001b[0m\u001b[1;33m)\u001b[0m\u001b[1;33m\u001b[0m\u001b[1;33m\u001b[0m\u001b[0m\n\u001b[0m",
      "\u001b[1;31mTypeError\u001b[0m: pop expected at least 1 argument, got 0"
     ]
    }
   ],
   "source": [
    "d.pop()"
   ]
  },
  {
   "cell_type": "code",
   "execution_count": 106,
   "metadata": {},
   "outputs": [
    {
     "data": {
      "text/plain": [
       "'analyst'"
      ]
     },
     "execution_count": 106,
     "metadata": {},
     "output_type": "execute_result"
    }
   ],
   "source": [
    "d.pop(\"designation\")"
   ]
  },
  {
   "cell_type": "code",
   "execution_count": 107,
   "metadata": {},
   "outputs": [
    {
     "data": {
      "text/plain": [
       "{'empname': 'Tulasi', 'salary': '2k', 'expereince': 6}"
      ]
     },
     "execution_count": 107,
     "metadata": {},
     "output_type": "execute_result"
    }
   ],
   "source": [
    "d"
   ]
  },
  {
   "cell_type": "code",
   "execution_count": 60,
   "metadata": {},
   "outputs": [
    {
     "data": {
      "text/plain": [
       "('expereince', 6)"
      ]
     },
     "execution_count": 60,
     "metadata": {},
     "output_type": "execute_result"
    }
   ],
   "source": [
    "d.popitem()"
   ]
  },
  {
   "cell_type": "code",
   "execution_count": 108,
   "metadata": {},
   "outputs": [
    {
     "data": {
      "text/plain": [
       "{'empname': 'Tulasi', 'salary': '2k', 'expereince': 6}"
      ]
     },
     "execution_count": 108,
     "metadata": {},
     "output_type": "execute_result"
    }
   ],
   "source": [
    "d"
   ]
  },
  {
   "cell_type": "code",
   "execution_count": 109,
   "metadata": {},
   "outputs": [],
   "source": [
    "list=[1,2,3,[3,4,[{\"name\":[1,2,{\"name1\":\"vit\"},{\"campus\":\"bhopal\"}]}]]]"
   ]
  },
  {
   "cell_type": "code",
   "execution_count": 110,
   "metadata": {},
   "outputs": [
    {
     "data": {
      "text/plain": [
       "[3, 4, [{'name': [1, 2, {'name1': 'vit'}, {'campus': 'bhopal'}]}]]"
      ]
     },
     "execution_count": 110,
     "metadata": {},
     "output_type": "execute_result"
    }
   ],
   "source": [
    "list[3]\n"
   ]
  },
  {
   "cell_type": "code",
   "execution_count": 111,
   "metadata": {},
   "outputs": [
    {
     "data": {
      "text/plain": [
       "[{'name': [1, 2, {'name1': 'vit'}, {'campus': 'bhopal'}]}]"
      ]
     },
     "execution_count": 111,
     "metadata": {},
     "output_type": "execute_result"
    }
   ],
   "source": [
    "list[3][2]"
   ]
  },
  {
   "cell_type": "code",
   "execution_count": 67,
   "metadata": {},
   "outputs": [
    {
     "data": {
      "text/plain": [
       "{'name': [1, 2, {'name1': 'vit'}, {'campus': 'bhopal'}]}"
      ]
     },
     "execution_count": 67,
     "metadata": {},
     "output_type": "execute_result"
    }
   ],
   "source": [
    "list[3][2][0]"
   ]
  },
  {
   "cell_type": "code",
   "execution_count": 69,
   "metadata": {},
   "outputs": [
    {
     "data": {
      "text/plain": [
       "[1, 2, {'name1': 'vit'}, {'campus': 'bhopal'}]"
      ]
     },
     "execution_count": 69,
     "metadata": {},
     "output_type": "execute_result"
    }
   ],
   "source": [
    "list[3][2][0][\"name\"]"
   ]
  },
  {
   "cell_type": "code",
   "execution_count": 70,
   "metadata": {},
   "outputs": [
    {
     "data": {
      "text/plain": [
       "{'name1': 'vit'}"
      ]
     },
     "execution_count": 70,
     "metadata": {},
     "output_type": "execute_result"
    }
   ],
   "source": [
    "list[3][2][0][\"name\"][2]"
   ]
  },
  {
   "cell_type": "code",
   "execution_count": 71,
   "metadata": {},
   "outputs": [
    {
     "data": {
      "text/plain": [
       "'vit'"
      ]
     },
     "execution_count": 71,
     "metadata": {},
     "output_type": "execute_result"
    }
   ],
   "source": [
    "list[3][2][0][\"name\"][2][\"name1\"]"
   ]
  },
  {
   "cell_type": "markdown",
   "metadata": {},
   "source": [
    "# Sets"
   ]
  },
  {
   "cell_type": "code",
   "execution_count": 112,
   "metadata": {},
   "outputs": [],
   "source": [
    "s={1,2,3,'a'}#unordered,cannot change the content,unindexed\n",
    "#no indexing and no slicing"
   ]
  },
  {
   "cell_type": "code",
   "execution_count": 113,
   "metadata": {},
   "outputs": [
    {
     "data": {
      "text/plain": [
       "{1, 2, 3, 'a'}"
      ]
     },
     "execution_count": 113,
     "metadata": {},
     "output_type": "execute_result"
    }
   ],
   "source": [
    "s#heterogenous"
   ]
  },
  {
   "cell_type": "code",
   "execution_count": 114,
   "metadata": {},
   "outputs": [
    {
     "data": {
      "text/plain": [
       "set"
      ]
     },
     "execution_count": 114,
     "metadata": {},
     "output_type": "execute_result"
    }
   ],
   "source": [
    "type(s)"
   ]
  },
  {
   "cell_type": "code",
   "execution_count": 115,
   "metadata": {},
   "outputs": [],
   "source": [
    "s.add(\"sd\")"
   ]
  },
  {
   "cell_type": "code",
   "execution_count": 116,
   "metadata": {},
   "outputs": [
    {
     "data": {
      "text/plain": [
       "{1, 2, 3, 'a', 'sd'}"
      ]
     },
     "execution_count": 116,
     "metadata": {},
     "output_type": "execute_result"
    }
   ],
   "source": [
    "s"
   ]
  },
  {
   "cell_type": "code",
   "execution_count": 117,
   "metadata": {},
   "outputs": [],
   "source": [
    "s.add(9)"
   ]
  },
  {
   "cell_type": "code",
   "execution_count": 118,
   "metadata": {},
   "outputs": [
    {
     "data": {
      "text/plain": [
       "{1, 2, 3, 9, 'a', 'sd'}"
      ]
     },
     "execution_count": 118,
     "metadata": {},
     "output_type": "execute_result"
    }
   ],
   "source": [
    "s"
   ]
  },
  {
   "cell_type": "code",
   "execution_count": 119,
   "metadata": {},
   "outputs": [
    {
     "ename": "TypeError",
     "evalue": "'set' object is not subscriptable",
     "output_type": "error",
     "traceback": [
      "\u001b[1;31m---------------------------------------------------------------------------\u001b[0m",
      "\u001b[1;31mTypeError\u001b[0m                                 Traceback (most recent call last)",
      "\u001b[1;32m<ipython-input-119-56e95e08939f>\u001b[0m in \u001b[0;36m<module>\u001b[1;34m\u001b[0m\n\u001b[1;32m----> 1\u001b[1;33m \u001b[0ms\u001b[0m\u001b[1;33m[\u001b[0m\u001b[1;36m3\u001b[0m\u001b[1;33m]\u001b[0m\u001b[1;31m#indexing is not possible\u001b[0m\u001b[1;33m\u001b[0m\u001b[1;33m\u001b[0m\u001b[0m\n\u001b[0m",
      "\u001b[1;31mTypeError\u001b[0m: 'set' object is not subscriptable"
     ]
    }
   ],
   "source": [
    "s[3]#indexing is not possible"
   ]
  },
  {
   "cell_type": "code",
   "execution_count": 120,
   "metadata": {},
   "outputs": [],
   "source": [
    "my_set={1,2}\n",
    "my_set.add(2)"
   ]
  },
  {
   "cell_type": "code",
   "execution_count": 121,
   "metadata": {},
   "outputs": [
    {
     "data": {
      "text/plain": [
       "{1, 2}"
      ]
     },
     "execution_count": 121,
     "metadata": {},
     "output_type": "execute_result"
    }
   ],
   "source": [
    "my_set"
   ]
  },
  {
   "cell_type": "code",
   "execution_count": 122,
   "metadata": {},
   "outputs": [],
   "source": [
    "my_set.update([2,3,4])"
   ]
  },
  {
   "cell_type": "code",
   "execution_count": 123,
   "metadata": {},
   "outputs": [
    {
     "data": {
      "text/plain": [
       "{1, 2, 3, 4}"
      ]
     },
     "execution_count": 123,
     "metadata": {},
     "output_type": "execute_result"
    }
   ],
   "source": [
    "my_set"
   ]
  },
  {
   "cell_type": "code",
   "execution_count": 124,
   "metadata": {},
   "outputs": [],
   "source": [
    "my_set.remove(2)"
   ]
  },
  {
   "cell_type": "code",
   "execution_count": 125,
   "metadata": {},
   "outputs": [
    {
     "data": {
      "text/plain": [
       "{1, 3, 4}"
      ]
     },
     "execution_count": 125,
     "metadata": {},
     "output_type": "execute_result"
    }
   ],
   "source": [
    "my_set"
   ]
  },
  {
   "cell_type": "code",
   "execution_count": 126,
   "metadata": {},
   "outputs": [],
   "source": [
    "a={1,2,3}\n",
    "b={2,3,4,5}\n",
    "c=a.union(b)"
   ]
  },
  {
   "cell_type": "code",
   "execution_count": 127,
   "metadata": {},
   "outputs": [
    {
     "data": {
      "text/plain": [
       "{1, 2, 3, 4, 5}"
      ]
     },
     "execution_count": 127,
     "metadata": {},
     "output_type": "execute_result"
    }
   ],
   "source": [
    "c"
   ]
  },
  {
   "cell_type": "code",
   "execution_count": 128,
   "metadata": {},
   "outputs": [],
   "source": [
    "c=a.intersection(b)"
   ]
  },
  {
   "cell_type": "code",
   "execution_count": 129,
   "metadata": {},
   "outputs": [
    {
     "data": {
      "text/plain": [
       "{2, 3}"
      ]
     },
     "execution_count": 129,
     "metadata": {},
     "output_type": "execute_result"
    }
   ],
   "source": [
    "c"
   ]
  },
  {
   "cell_type": "code",
   "execution_count": 130,
   "metadata": {},
   "outputs": [],
   "source": [
    "#Exercise\n",
    "list=[1,2,[1,[2,[{\"name\":[\"tulasi\",\"malathi\",\"pradeepthi\"]}]]]]"
   ]
  },
  {
   "cell_type": "code",
   "execution_count": 131,
   "metadata": {},
   "outputs": [
    {
     "data": {
      "text/plain": [
       "'pradeepthi'"
      ]
     },
     "execution_count": 131,
     "metadata": {},
     "output_type": "execute_result"
    }
   ],
   "source": [
    "list[2][1][1][0]['name'][2]\n"
   ]
  },
  {
   "cell_type": "markdown",
   "metadata": {},
   "source": [
    "# Conditional statements"
   ]
  },
  {
   "cell_type": "code",
   "execution_count": null,
   "metadata": {},
   "outputs": [],
   "source": []
  },
  {
   "cell_type": "raw",
   "metadata": {},
   "source": [
    "block of codes whcih purely works on conditions\n",
    "1.if\n",
    "2.else\n",
    "3.elif\n",
    "4.nested if"
   ]
  },
  {
   "cell_type": "code",
   "execution_count": 93,
   "metadata": {},
   "outputs": [
    {
     "name": "stdout",
     "output_type": "stream",
     "text": [
      "enter the value of a1\n",
      "enter the value of b2\n",
      "12\n"
     ]
    }
   ],
   "source": [
    "#scanf(\"enter the value\"&a)\n",
    "a=input(\"enter the value of a\")\n",
    "b=input(\"enter the value of b\")\n",
    "c=a+b\n",
    "print(c)"
   ]
  },
  {
   "cell_type": "code",
   "execution_count": 94,
   "metadata": {},
   "outputs": [
    {
     "name": "stdout",
     "output_type": "stream",
     "text": [
      "enter the value of a1\n",
      "enter the value of b3\n",
      "4\n"
     ]
    }
   ],
   "source": [
    "a=int(input(\"enter the value of a\"))\n",
    "b=int(input(\"enter the value of b\"))\n",
    "c=a+b\n",
    "print(c)"
   ]
  },
  {
   "cell_type": "markdown",
   "metadata": {},
   "source": [
    "# if statement\n",
    "\n",
    "if(condition):\n",
    "    statement"
   ]
  },
  {
   "cell_type": "code",
   "execution_count": 96,
   "metadata": {},
   "outputs": [
    {
     "name": "stdout",
     "output_type": "stream",
     "text": [
      "enter the value of a12\n",
      "enter the value of b1\n",
      "13\n"
     ]
    }
   ],
   "source": [
    "a=int(input(\"enter the value of a\"))\n",
    "b=int(input(\"enter the value of b\"))\n",
    "c=a+b\n",
    "print(c)\n",
    "if(c>20):\n",
    "    print(\"pass\")"
   ]
  },
  {
   "cell_type": "markdown",
   "metadata": {},
   "source": [
    "# if else"
   ]
  },
  {
   "cell_type": "code",
   "execution_count": null,
   "metadata": {},
   "outputs": [],
   "source": [
    "if(condition):\n",
    "    statement\n",
    "else\n",
    "    statement2"
   ]
  },
  {
   "cell_type": "code",
   "execution_count": 97,
   "metadata": {},
   "outputs": [
    {
     "name": "stdout",
     "output_type": "stream",
     "text": [
      "enter the value of a12\n",
      "enter the value of b1\n",
      "13\n",
      "fail\n"
     ]
    }
   ],
   "source": [
    "a=int(input(\"enter the value of a\"))\n",
    "b=int(input(\"enter the value of b\"))\n",
    "c=a+b\n",
    "print(c)\n",
    "if(c>20):\n",
    "    print(\"pass\")\n",
    "else:\n",
    "    print(\"fail\")"
   ]
  },
  {
   "cell_type": "markdown",
   "metadata": {},
   "source": [
    "# elif statement\n",
    "if(condition):\n",
    "    body of if\n",
    "elseif:\n",
    "    body of elif\n",
    "else:\n",
    "    body of else"
   ]
  },
  {
   "cell_type": "code",
   "execution_count": 100,
   "metadata": {},
   "outputs": [
    {
     "name": "stdout",
     "output_type": "stream",
     "text": [
      "enter the value of a22\n",
      "enter the value of b13\n",
      "35\n",
      "border pass\n"
     ]
    }
   ],
   "source": [
    "a=int(input(\"enter the value of a\"))\n",
    "b=int(input(\"enter the value of b\"))\n",
    "c=a+b\n",
    "print(c)\n",
    "if(c>50):\n",
    "    print(\"pass\")\n",
    "elif(c==35):\n",
    "    print(\"border pass\")\n",
    "else:\n",
    "    print(\"fail\")"
   ]
  },
  {
   "cell_type": "markdown",
   "metadata": {},
   "source": [
    "# nested if"
   ]
  },
  {
   "cell_type": "code",
   "execution_count": null,
   "metadata": {},
   "outputs": [],
   "source": [
    "if(condition):\n",
    "    body of if\n",
    "    if(condition):\n",
    "        body of second if\n",
    "        if(condition):\n",
    "            body of third id"
   ]
  },
  {
   "cell_type": "code",
   "execution_count": 104,
   "metadata": {},
   "outputs": [
    {
     "name": "stdout",
     "output_type": "stream",
     "text": [
      "enter the value0\n",
      "zero\n"
     ]
    }
   ],
   "source": [
    "#to know a is positive or negative\n",
    "num=int(input(\"enter the value\"))\n",
    "if num>=0:\n",
    "    if num==0:\n",
    "        print(\"zero\")\n",
    "    else:\n",
    "        print(\"positive\")\n",
    "else:\n",
    "    print(\"negative\")"
   ]
  },
  {
   "cell_type": "markdown",
   "metadata": {},
   "source": [
    "# Loops"
   ]
  },
  {
   "cell_type": "raw",
   "metadata": {},
   "source": [
    "in python \n",
    "1.for loop\n",
    "2.while"
   ]
  },
  {
   "cell_type": "raw",
   "metadata": {},
   "source": [
    "while loop\n",
    "Syntax:\n",
    "while condition:\n",
    "    statement"
   ]
  },
  {
   "cell_type": "code",
   "execution_count": 105,
   "metadata": {},
   "outputs": [
    {
     "name": "stdout",
     "output_type": "stream",
     "text": [
      "the value is less than 5\n",
      "the value is less than 5\n",
      "the value is less than 5\n",
      "the value is less than 5\n",
      "the value is less than 5\n"
     ]
    }
   ],
   "source": [
    "num=0\n",
    "while num<5:\n",
    "    print(\"the value is less than 5\")\n",
    "    num=num+1"
   ]
  },
  {
   "cell_type": "raw",
   "metadata": {},
   "source": [
    "#for loop\n",
    "\n",
    "for value in sequence:\n",
    "    statements\n",
    "    "
   ]
  },
  {
   "cell_type": "code",
   "execution_count": 106,
   "metadata": {},
   "outputs": [
    {
     "name": "stdout",
     "output_type": "stream",
     "text": [
      "0\n",
      "1\n",
      "2\n",
      "3\n",
      "4\n",
      "5\n",
      "6\n",
      "7\n",
      "8\n",
      "9\n"
     ]
    }
   ],
   "source": [
    "for i in range(10):\n",
    "    print(i)"
   ]
  },
  {
   "cell_type": "code",
   "execution_count": 107,
   "metadata": {},
   "outputs": [
    {
     "name": "stdout",
     "output_type": "stream",
     "text": [
      "d\n",
      "a\n",
      "t\n",
      "a\n"
     ]
    }
   ],
   "source": [
    "l=\"data\"\n",
    "for i in l:\n",
    "    print(i)"
   ]
  },
  {
   "cell_type": "code",
   "execution_count": 108,
   "metadata": {},
   "outputs": [
    {
     "name": "stdout",
     "output_type": "stream",
     "text": [
      "1\n",
      "2\n",
      "3\n",
      "4\n",
      "5\n"
     ]
    }
   ],
   "source": [
    "numbers=[1,2,3,4,5]\n",
    "for i in numbers:\n",
    "    print(i)"
   ]
  },
  {
   "cell_type": "code",
   "execution_count": 109,
   "metadata": {},
   "outputs": [
    {
     "name": "stdout",
     "output_type": "stream",
     "text": [
      "d\n",
      "a\n",
      "t\n",
      "a\n",
      "end\n"
     ]
    }
   ],
   "source": [
    "#break \n",
    "#when you want to terminate a loop when a given condition is satisfied we use break\n",
    "for i in \"dataVgyan\":\n",
    "    if i==\"V\":\n",
    "        break\n",
    "    print(i)\n",
    "print(\"end\")"
   ]
  },
  {
   "cell_type": "code",
   "execution_count": 110,
   "metadata": {},
   "outputs": [
    {
     "name": "stdout",
     "output_type": "stream",
     "text": [
      "1\n",
      "3\n",
      "5\n",
      "7\n",
      "9\n",
      "11\n",
      "13\n",
      "15\n",
      "17\n",
      "19\n"
     ]
    }
   ],
   "source": [
    "#continue\n",
    "for i in range(20):\n",
    "    if i%2==0:\n",
    "        continue\n",
    "    print(i)"
   ]
  },
  {
   "cell_type": "code",
   "execution_count": 111,
   "metadata": {},
   "outputs": [
    {
     "name": "stdout",
     "output_type": "stream",
     "text": [
      "hi\n",
      "0\n",
      "1\n",
      "hi\n",
      "2\n",
      "3\n",
      "hi\n",
      "4\n",
      "5\n",
      "hi\n",
      "6\n",
      "7\n",
      "hi\n",
      "8\n",
      "9\n",
      "hi\n",
      "10\n",
      "11\n",
      "hi\n",
      "12\n",
      "13\n",
      "hi\n",
      "14\n",
      "15\n",
      "hi\n",
      "16\n",
      "17\n",
      "hi\n",
      "18\n",
      "19\n"
     ]
    }
   ],
   "source": [
    "#continue\n",
    "for i in range(20):\n",
    "    if i%2==0:\n",
    "        print(\"hi\")\n",
    "    print(i)"
   ]
  },
  {
   "cell_type": "code",
   "execution_count": 112,
   "metadata": {},
   "outputs": [
    {
     "name": "stdout",
     "output_type": "stream",
     "text": [
      "d\n",
      "a\n",
      "t\n",
      "a\n",
      "g\n",
      "y\n",
      "a\n",
      "n\n",
      "end\n"
     ]
    }
   ],
   "source": [
    "for i in \"dataVgyan\":\n",
    "    if i==\"V\":\n",
    "        continue\n",
    "    print(i)\n",
    "print(\"end\")"
   ]
  },
  {
   "cell_type": "code",
   "execution_count": 113,
   "metadata": {},
   "outputs": [
    {
     "name": "stdout",
     "output_type": "stream",
     "text": [
      "d\n",
      "a\n",
      "t\n",
      "a\n",
      "V\n",
      "g\n",
      "y\n",
      "a\n",
      "n\n",
      "end\n"
     ]
    }
   ],
   "source": [
    "#pass\n",
    "for i in \"dataVgyan\":\n",
    "    if i==\"V\":\n",
    "        pass\n",
    "    print(i)\n",
    "print(\"end\")"
   ]
  },
  {
   "cell_type": "markdown",
   "metadata": {},
   "source": [
    "# Functions"
   ]
  },
  {
   "cell_type": "code",
   "execution_count": 132,
   "metadata": {},
   "outputs": [
    {
     "ename": "SyntaxError",
     "evalue": "invalid syntax (<ipython-input-132-c500d8c80dfe>, line 2)",
     "output_type": "error",
     "traceback": [
      "\u001b[1;36m  File \u001b[1;32m\"<ipython-input-132-c500d8c80dfe>\"\u001b[1;36m, line \u001b[1;32m2\u001b[0m\n\u001b[1;33m    block of code\u001b[0m\n\u001b[1;37m          ^\u001b[0m\n\u001b[1;31mSyntaxError\u001b[0m\u001b[1;31m:\u001b[0m invalid syntax\n"
     ]
    }
   ],
   "source": [
    "def functionname():\n",
    "    block of code"
   ]
  },
  {
   "cell_type": "code",
   "execution_count": 133,
   "metadata": {},
   "outputs": [],
   "source": [
    "def x():\n",
    "    print(\"i am a function\")"
   ]
  },
  {
   "cell_type": "code",
   "execution_count": 134,
   "metadata": {},
   "outputs": [
    {
     "name": "stdout",
     "output_type": "stream",
     "text": [
      "i am a function\n"
     ]
    }
   ],
   "source": [
    "x()"
   ]
  },
  {
   "cell_type": "code",
   "execution_count": 135,
   "metadata": {},
   "outputs": [
    {
     "name": "stdout",
     "output_type": "stream",
     "text": [
      "datavgyan 1\n"
     ]
    }
   ],
   "source": [
    "def x(a,b):\n",
    "    print(a,b)\n",
    "x(\"datavgyan\",1)\n"
   ]
  },
  {
   "cell_type": "code",
   "execution_count": 136,
   "metadata": {},
   "outputs": [
    {
     "name": "stdout",
     "output_type": "stream",
     "text": [
      "1 datavgyan\n"
     ]
    }
   ],
   "source": [
    "#keyword arguments\n",
    "def x(a,b):\n",
    "    print(a,b)\n",
    "x(b=\"datavgyan\",a=1)"
   ]
  },
  {
   "cell_type": "code",
   "execution_count": 10,
   "metadata": {},
   "outputs": [
    {
     "name": "stdout",
     "output_type": "stream",
     "text": [
      "12 datavgyan\n"
     ]
    }
   ],
   "source": [
    "#defult arguments\n",
    "def x(a=12,b=23):\n",
    "    print(a,b)\n",
    "x(b=\"datavgyan\")"
   ]
  },
  {
   "cell_type": "code",
   "execution_count": 13,
   "metadata": {},
   "outputs": [
    {
     "name": "stdout",
     "output_type": "stream",
     "text": [
      "a value 1\n",
      "b value: 2\n",
      "b value: 3\n",
      "b value: 4\n",
      "b value: 5\n"
     ]
    }
   ],
   "source": [
    "def x(a,*b):\n",
    "    print(\"a value\",a)\n",
    "    for i in b:\n",
    "        print(\"b value:\",i)\n",
    "x(1,2,3,4,5)"
   ]
  },
  {
   "cell_type": "code",
   "execution_count": 21,
   "metadata": {},
   "outputs": [],
   "source": [
    "def add(a,b):\n",
    "    c=a+b\n",
    "    e=a-b\n",
    "    return (c,e)"
   ]
  },
  {
   "cell_type": "code",
   "execution_count": 22,
   "metadata": {},
   "outputs": [
    {
     "data": {
      "text/plain": [
       "(9, -3)"
      ]
     },
     "execution_count": 22,
     "metadata": {},
     "output_type": "execute_result"
    }
   ],
   "source": [
    "add(3,6)\n"
   ]
  },
  {
   "cell_type": "markdown",
   "metadata": {},
   "source": [
    "# Exception Handling"
   ]
  },
  {
   "cell_type": "code",
   "execution_count": 137,
   "metadata": {},
   "outputs": [
    {
     "ename": "SyntaxError",
     "evalue": "cannot assign to literal (<ipython-input-137-a266568035e5>, line 1)",
     "output_type": "error",
     "traceback": [
      "\u001b[1;36m  File \u001b[1;32m\"<ipython-input-137-a266568035e5>\"\u001b[1;36m, line \u001b[1;32m1\u001b[0m\n\u001b[1;33m    a=2,b=g\u001b[0m\n\u001b[1;37m      ^\u001b[0m\n\u001b[1;31mSyntaxError\u001b[0m\u001b[1;31m:\u001b[0m cannot assign to literal\n"
     ]
    }
   ],
   "source": [
    "a=2,b=g\n",
    "c=a+b"
   ]
  },
  {
   "cell_type": "code",
   "execution_count": 138,
   "metadata": {},
   "outputs": [
    {
     "ename": "ZeroDivisionError",
     "evalue": "division by zero",
     "output_type": "error",
     "traceback": [
      "\u001b[1;31m---------------------------------------------------------------------------\u001b[0m",
      "\u001b[1;31mZeroDivisionError\u001b[0m                         Traceback (most recent call last)",
      "\u001b[1;32m<ipython-input-138-3b5b0c538915>\u001b[0m in \u001b[0;36m<module>\u001b[1;34m\u001b[0m\n\u001b[0;32m      1\u001b[0m \u001b[0ma\u001b[0m\u001b[1;33m=\u001b[0m\u001b[1;36m10\u001b[0m\u001b[1;33m\u001b[0m\u001b[1;33m\u001b[0m\u001b[0m\n\u001b[0;32m      2\u001b[0m \u001b[0mb\u001b[0m\u001b[1;33m=\u001b[0m\u001b[1;36m0\u001b[0m\u001b[1;33m\u001b[0m\u001b[1;33m\u001b[0m\u001b[0m\n\u001b[1;32m----> 3\u001b[1;33m \u001b[0mc\u001b[0m\u001b[1;33m=\u001b[0m\u001b[0ma\u001b[0m\u001b[1;33m/\u001b[0m\u001b[0mb\u001b[0m\u001b[1;31m#critical statement\u001b[0m\u001b[1;33m\u001b[0m\u001b[1;33m\u001b[0m\u001b[0m\n\u001b[0m\u001b[0;32m      4\u001b[0m \u001b[0mprint\u001b[0m\u001b[1;33m(\u001b[0m\u001b[0mc\u001b[0m\u001b[1;33m)\u001b[0m\u001b[1;33m\u001b[0m\u001b[1;33m\u001b[0m\u001b[0m\n\u001b[0;32m      5\u001b[0m \u001b[0mprint\u001b[0m\u001b[1;33m(\u001b[0m\u001b[1;34m\"normal flow of the program\"\u001b[0m\u001b[1;33m)\u001b[0m\u001b[1;33m\u001b[0m\u001b[1;33m\u001b[0m\u001b[0m\n",
      "\u001b[1;31mZeroDivisionError\u001b[0m: division by zero"
     ]
    }
   ],
   "source": [
    "a=10\n",
    "b=0\n",
    "c=a/b#critical statement\n",
    "print(c)\n",
    "print(\"normal flow of the program\")"
   ]
  },
  {
   "cell_type": "code",
   "execution_count": 25,
   "metadata": {},
   "outputs": [
    {
     "name": "stdout",
     "output_type": "stream",
     "text": [
      "divison by zero is not valid\n",
      "normal flow of the program\n"
     ]
    }
   ],
   "source": [
    "a=10\n",
    "b=0\n",
    "try:\n",
    "    c=a/b#critical statement\n",
    "except ZeroDivisionError:\n",
    "    print(\"divison by zero is not valid\")\n",
    "print(\"normal flow of the program\")"
   ]
  },
  {
   "cell_type": "code",
   "execution_count": 147,
   "metadata": {},
   "outputs": [
    {
     "name": "stdout",
     "output_type": "stream",
     "text": [
      "277\n"
     ]
    }
   ],
   "source": [
    "try:\n",
    "    #'2'+2\n",
    "    #print(11/0)\n",
    "    v=4*v+1\n",
    "    print(v)\n",
    "except Exception as a:\n",
    "    print(a)"
   ]
  },
  {
   "cell_type": "code",
   "execution_count": 31,
   "metadata": {},
   "outputs": [
    {
     "name": "stdout",
     "output_type": "stream",
     "text": [
      "divison by zero is not valid\n",
      "finally is executed\n"
     ]
    }
   ],
   "source": [
    "a=10\n",
    "b=0\n",
    "try:\n",
    "    c=a/b#critical statement\n",
    "except ZeroDivisionError:\n",
    "    print(\"divison by zero is not valid\")\n",
    "finally:\n",
    "    print(\"finally is executed\")"
   ]
  },
  {
   "cell_type": "markdown",
   "metadata": {},
   "source": [
    "# File handling"
   ]
  },
  {
   "cell_type": "code",
   "execution_count": null,
   "metadata": {},
   "outputs": [],
   "source": [
    "file types\n",
    "1.in the form of text\n",
    "2. in the form of binary"
   ]
  },
  {
   "cell_type": "code",
   "execution_count": null,
   "metadata": {},
   "outputs": [],
   "source": [
    "Syntax:  variablename=open(\"filename.extension\",\"mode\") r w x rb wb a\n",
    "    \n",
    "    extensions:   txt,doc,pdf....png,jpeg,jpg"
   ]
  },
  {
   "cell_type": "code",
   "execution_count": 148,
   "metadata": {},
   "outputs": [],
   "source": [
    "f=open(\"newtext.txt\",\"x\")"
   ]
  },
  {
   "cell_type": "code",
   "execution_count": 149,
   "metadata": {},
   "outputs": [],
   "source": [
    "f=open(\"newtext.txt\",\"w\")\n",
    "f.write(\"welcome to remote internship\")\n",
    "f.close()"
   ]
  },
  {
   "cell_type": "code",
   "execution_count": 150,
   "metadata": {},
   "outputs": [],
   "source": [
    "f=open(\"newtext.txt\",\"a\")\n",
    "f.write(\"\\nwelcome to remote internship\")\n",
    "f.close()"
   ]
  },
  {
   "cell_type": "code",
   "execution_count": 151,
   "metadata": {},
   "outputs": [
    {
     "ename": "FileExistsError",
     "evalue": "[Errno 17] File exists: 'newtext.txt'",
     "output_type": "error",
     "traceback": [
      "\u001b[1;31m---------------------------------------------------------------------------\u001b[0m",
      "\u001b[1;31mFileExistsError\u001b[0m                           Traceback (most recent call last)",
      "\u001b[1;32m<ipython-input-151-12e116513b76>\u001b[0m in \u001b[0;36m<module>\u001b[1;34m\u001b[0m\n\u001b[1;32m----> 1\u001b[1;33m \u001b[0mf\u001b[0m\u001b[1;33m=\u001b[0m\u001b[0mopen\u001b[0m\u001b[1;33m(\u001b[0m\u001b[1;34m\"newtext.txt\"\u001b[0m\u001b[1;33m,\u001b[0m\u001b[1;34m\"x\"\u001b[0m\u001b[1;33m)\u001b[0m\u001b[1;33m\u001b[0m\u001b[1;33m\u001b[0m\u001b[0m\n\u001b[0m\u001b[0;32m      2\u001b[0m \u001b[0mf\u001b[0m\u001b[1;33m.\u001b[0m\u001b[0mwrite\u001b[0m\u001b[1;33m(\u001b[0m\u001b[1;34m\"\\nwelcome to remote internship\"\u001b[0m\u001b[1;33m)\u001b[0m\u001b[1;33m\u001b[0m\u001b[1;33m\u001b[0m\u001b[0m\n\u001b[0;32m      3\u001b[0m \u001b[0mf\u001b[0m\u001b[1;33m.\u001b[0m\u001b[0mclose\u001b[0m\u001b[1;33m(\u001b[0m\u001b[1;33m)\u001b[0m\u001b[1;33m\u001b[0m\u001b[1;33m\u001b[0m\u001b[0m\n",
      "\u001b[1;31mFileExistsError\u001b[0m: [Errno 17] File exists: 'newtext.txt'"
     ]
    }
   ],
   "source": [
    "f=open(\"newtext.txt\",\"x\")\n",
    "f.write(\"\\nwelcome to remote internship\")\n",
    "f.close()"
   ]
  },
  {
   "cell_type": "code",
   "execution_count": 154,
   "metadata": {},
   "outputs": [
    {
     "name": "stdout",
     "output_type": "stream",
     "text": [
      "enter a 1\n",
      "enter b 2\n"
     ]
    }
   ],
   "source": [
    "f=open(\"newtext.txt\",\"a\")\n",
    "a=int(input(\"enter a \"))\n",
    "b=int(input(\"enter b \"))\n",
    "c=a+b\n",
    "f.write(\"\\nthe value of a is\"+str(a)+\"\\nthe value of b is\"+str(b)+\"\\nthe additiono two numbers is \"+str(c))\n",
    "f.close()"
   ]
  },
  {
   "cell_type": "code",
   "execution_count": 155,
   "metadata": {},
   "outputs": [
    {
     "name": "stdout",
     "output_type": "stream",
     "text": [
      "welcome to remote internship\n",
      "welcome to remote internship\n",
      "the value of a is9\n",
      "the value of b is1\n",
      "the additiono two numbers is 10\n",
      "the value of a is1\n",
      "the value of b is2\n",
      "the additiono two numbers is 3\n",
      "the value of a is1\n",
      "the value of b is2\n",
      "the additiono two numbers is 3\n"
     ]
    }
   ],
   "source": [
    "f=open(\"newtext.txt\",\"r\")\n",
    "p=f.read()\n",
    "print(p)\n",
    "f.close()"
   ]
  },
  {
   "cell_type": "code",
   "execution_count": 156,
   "metadata": {},
   "outputs": [
    {
     "name": "stdout",
     "output_type": "stream",
     "text": [
      "welcome to remote internship\n",
      "\n",
      "welcome to remote internship\n",
      "\n",
      "the value of a is9\n",
      "\n",
      "the value of b is1\n",
      "\n",
      "the additiono two numbers is 10\n",
      "\n",
      "the value of a is1\n",
      "\n",
      "the value of b is2\n",
      "\n",
      "the additiono two numbers is 3\n",
      "\n",
      "the value of a is1\n",
      "\n",
      "the value of b is2\n",
      "\n",
      "the additiono two numbers is 3\n"
     ]
    }
   ],
   "source": [
    "f=open(\"newtext.txt\",\"r\")\n",
    "p=f.readlines()\n",
    "for i in p:\n",
    "    print(i)\n",
    "f.close()"
   ]
  },
  {
   "cell_type": "code",
   "execution_count": 54,
   "metadata": {},
   "outputs": [],
   "source": [
    "f=open(\"newtext.txt\",\"r\")\n",
    "f1=open(\"tulasi.txt\",\"w\")\n",
    "p=f.read()\n",
    "for i in p:\n",
    "    f1.write(i)\n",
    "f1.close()\n",
    "f.close()"
   ]
  },
  {
   "cell_type": "code",
   "execution_count": 57,
   "metadata": {},
   "outputs": [
    {
     "name": "stdout",
     "output_type": "stream",
     "text": [
      "b'\\xff\\xd8\\xff\\xe0\\x00\\x10JFIF\\x00\\x01\\x01\\x00\\x00\\x01\\x00\\x01\\x00\\x00\\xff\\xdb\\x00\\x84\\x00\\t\\x06\\x07\\x12\\x12\\x12\\x15\\x12\\x12\\x12\\x16\\x15\\x15\\x15\\x18\\x15\\x17\\x18\\x17\\x15\\x15\\x18\\x15\\x16\\x17\\x16\\x18\\x17\\x16\\x17\\x16\\x15\\x15\\x17\\x18\\x1d( \\x18\\x1a\\'\\x1d\\x17\\x15!1!%)+...\\x17\\x1f383-7(-.+\\x01\\n\\n\\n\\x0e\\r\\x0e\\x1b\\x10\\x10\\x1a-%\\x1f%--------------------------------------------------\\xff\\xc0\\x00\\x11\\x08\\x01\\x13\\x00\\xb7\\x03\\x01\"\\x00\\x02\\x11\\x01\\x03\\x11\\x01\\xff\\xc4\\x00\\x1b\\x00\\x00\\x01\\x05\\x01\\x01\\x00\\x00\\x00\\x00\\x00\\x00\\x00\\x00\\x00\\x00\\x00\\x02\\x00\\x01\\x03\\x04\\x05\\x06\\x07\\xff\\xc4\\x00>\\x10\\x00\\x01\\x03\\x02\\x04\\x03\\x05\\x07\\x02\\x05\\x03\\x03\\x05\\x00\\x00\\x00\\x01\\x00\\x02\\x11\\x03!\\x04\\x121AQaq\\x05\"\\x81\\x91\\xa1\\x06\\x132\\xb1\\xc1\\xd1\\xf0B\\xe1#Rb\\x82\\x92\\x14r\\xf1\\xb2\\xd2\\xe2\\x07\\x1534\\xa2\\xff\\xc4\\x00\\x1a\\x01\\x00\\x03\\x01\\x01\\x01\\x01\\x00\\x00\\x00\\x00\\x00\\x00\\x00\\x00\\x00\\x00\\x00\\x01\\x02\\x03\\x04\\x05\\x06\\xff\\xc4\\x00)\\x11\\x01\\x01\\x00\\x02\\x02\\x01\\x02\\x04\\x06\\x03\\x00\\x00\\x00\\x00\\x00\\x00\\x00\\x01\\x02\\x11\\x03!1\\x04A\\x12\\x13Qa\\x05\"2Bq\\x91\\x14R\\x81\\xff\\xda\\x00\\x0c\\x03\\x01\\x00\\x02\\x11\\x03\\x11\\x00?\\x00\\x99<\\'\\x84\\xa1};\\xcb4%\\x08\\xa1(L\\x06\\x12\\x84P\\x94 \\x05(D\\x94&\\x03\\t\\xa1\\x14%\\t\\x80\\xc2hG\\t\\xa12\\x0c%\\x08\\xa14*M\\x0c$\\x88\\x84\\x95\\xa0\\t\\xa1\\x1c&\\x84\\xc0!(D\\x991\\xa0\\xc2P\\x8a\\x12\\x84\\xb6z4$\\x8a\\x13\\xa44\\x9a\\x13\\xc2xJ\\x17#p\\xc2xE\\tB{\\x01\\x84\\xa1\\x14%\\t\\xech0\\x94\"\\x84\\xa1\\x1b\\x1a\\x0c&\\x84i\\xa12\\x0c&\\x84IB\\xa8T0\\x9a\\x11\\xa6W\\x13B\\x9a\\x11\\x14\\xca\\x92\\x14\\xc8\\x93&\\x03\\tB(M\\t\\x83BP\\x8a\\x12H\\xcc\\x02I\\xe1$\\x82\\xcc%\\t\\xe1(\\\\\\x9bo\\xa3BP\\x8a\\x13B\\x01\\xa1$\\xf0\\x92`\\xc9\\x91$\\x99\\x052$\\xd0\\xaa$\\xc9\\x91BhW\\x08)B(M\\n\\x88)\\x91\\xc2hL\\x80\\x92$\\xd0\\x99\\x06\\x12\\x84I\\x90f\\x84\\xa1<$\\x80I\\'IHYJ\\x13\\xc2P\\xb9\\x1d\\x1a2I\\xe1<#cAJ\\x11$\\x9e\\xc6\\x82BhD\\x9a\\x15\\xa7F\\x84\\xd0\\x8a\\x12\\x84\\xf6Z\\x0c&\\x84i\\x93\\x94\\xb4\\x08J\\x11\\x10\\x99^\\xcbA\\x84\\xa1\\x11L\\x99h$&\\x84I\\x88U\\xb2\\x0c%\\x08\\xa1$l\\x05$P\\x94%\\xb0hI:Il,\\xc2P\\x9d:\\xe2\\xdb\\xa4)BxN\\x9e\\xc0R\\x84P\\x94\\'\\xb0\\x08J\\x11\\xe5K*{-\\x02\\x13B\\x92\\x13eU*l\\x04$\\x8b*hW\\x0bA\\x84\\xd0\\x8e\\x13\\x10\\xabe\\xa0\\xc2dP\\x99=\\x95\\x81L\\x88\\xa6TAI\\x12d\\x03%\\t\\xe1< \\x1a\\x12N\\x02Jv\\x16a(N\\x92\\xe2\\xdb\\xa7FO\\t=\\xc0(\\x8egk\\xe0\\xb9\\xf9\\xfdN<]{\\xb6\\xe2\\xe0\\xb9\\xff\\x00\\x03\\xf7\\xad\\x98\\xd5\\rJ\\xb1\\xd1W\\xa6\\xe8\\x17\\x1b\\xfc\\xd48\\x8a\\xf0\\x05\\xff\\x00%y\\xd9\\xfa\\xae\\\\\\xbd\\xf5\\xfc;1\\xe1\\xe3\\xc7\\xd9lcDiu\\x1f\\xfe\\xe0s\\x06\\xc0\\xbe\\x9c\\x87\\x12\\xa9U\\xaf\\x1d\\xe1\\xd7\\x86\\x8b\\x1e\\xadw6\\xa3\\\\\\xe3%\\xe1\\xd0\\x07\\xc2#F\\x8ev$\\xf5\\x0b9\\xc9\\x9d\\xfd\\xd7\\xfbU\\xc7\\x19\\xed\\x1di\\xc4\\x08\\xb4JvT\\xbc\\xcf\\xd5a\\xbe\\xbc\\t6\\x81o\\x01+G\\x06Ik\\\\u\"|\\x13\\xcb\\x9b\\x92\\xce\\xf2\\x18\\xf1\\xe1/Q|<\\x9f\\xd2<\\x95\\xdaT\\x9aE\\xc0\\xf2Y\\xb4\\xdc\\x0e\\xd0\\xb5)\\x0b\\x08*~w\\'\\xfb_\\xed_/\\x0f\\xa4W\\xaf\\x83:\\xb4[q0|\\n\\x06\\xe1\\xda\\x7fQ\\x07\\x81\\nWTp\\xb4\\xc8Uq5\\t\\xbe\\xff\\x00E\\xd1\\x8f\\xac\\xe6\\x9f\\xb9\\x95\\xf4\\xdc\\x7fC\\xbf\\r\\xc0\\x82\\xa1\\xa9H\\x8dD)(\\xd5\\x90\\x15\\x83ZN\\x9fU\\xd1\\xc7\\xf8\\x96r\\xfey\\xb69\\xfa</\\xe9\\xe9\\x9eBb\\xae\\xd5\\xc2\\xda[\\xe5\\xaf\\x92\\xa8B\\xf5\\xf8\\xb9\\xb1\\xe4\\xc7x\\xd7\\x07\\'\\x1eX]P\\xa6N\\x92\\xd3h\\xd1\\x93\\xa4\\x9264t\\x92IH\\xd2\\xc2Ot\\t\\xf2\\xe6x\"\\n\\x8d\\\\D\\x9b\\xd8h\\'\\xe6\\xbc\\xbe~o\\x97\\x8f\\xdd\\xdd\\xc5\\xc7\\xf1\\xd4\\xc2\\xa0;\\xdf\\x92T\\x9f\\x1a\\x19\\x99(h\\x9e0\\xa5\\xa6Zm\\xf9\\x0b\\xc7\\xca\\xdbw^\\x8e2I\\xa8\\x8a\\xa5-\\x86\\x8a\\x86\\'\\x07\\x9eo\\x12:y-h\\x06\\xf3\\xb2\\x8c\\xd3S\\x05\\x8f+\\xc7c\\xab\\xb4\\x8ao3\\xee\\xdcok\\xe8\\xd8tk\\xa6\\xaaj\\x9d\\xac\\xe7\\x16\\x12>\\r\\xbc\\x87\\xd1_\\xf6\\xd7\\xb3\\xdbN\\xab\\\\4|\\x929\\xcd\\xfc.\\xb3)T\\x01\\xc1\\xce\\xd0\\x19]\\x12n2\\xbd=\\x06\\x9e\\x14UkI\\x16\\xb1 \\x8d\\xecbx-&\\xd3Y}\\x9f\\xda\\xa1\\xd4\\xf3\\x0e\\x1a\\x0ezB\\xd6\\x15;\\x93\\xba\\xc6\\xb4\\x8aMi\\x0e[\\xf8pc\\xc1d\\xe0\\xde\\x0b\\x81p\\x95\\xb1B\\xb0\"l#\\xf2\\x12\\xd2\\xa5T\\xaau\\x07\\xd3\\xe8\\xaa\\xe2\\xceP\\t\\xe5\\xe2\\x15\\xecQ\\x13\\xf9\\xe6\\xa1\\xafK\\xde0\\x87\\x08 KO\\x02\\x13\\x82\\xa8Ry\\xb1lA\\xbf\\xec\\xaeQq\\xb2\\x1a\\x0c\\x8e\\x8aL\\x93\\xa2\\xa6zKM\\xc4:Pb\\xe8~\\xa1\\xe3\\xf7F\\xd7\\xc6\\xb7D\\xca\\xe2\"\\xdfU\\xbf\\x075\\xe2\\xcb\\xe2\\x88\\xe4\\xc2g\\x8e\\xab4\\x84\\xcaz\\xec\\x8d4P\\xaf\\xa1\\xc3\\x92g\\x8c\\xca<\\x9c\\xb1\\xb8\\xddS$\\x9d%[I$\\x9d%;\\x03\\xc4\\xbe\\x00\\x1c~[\\xac\\xacn\\xbdJ\\xd2\\xc6\\x8e\\xec\\x8d\\x8f\\xa2\\xc7}I\\xa8\\xd1\\xc0\\x13\\xe6W\\xcfz\\xbd\\xfc\\xce\\xde\\xb7\\x06\\xbe\\x04\\x94\\x1dn*zUd\\xf4T\\xe9<\\xc3\\x8b\\xb9\\xc7\\x055\\x12C$\\xeau\\\\\\xcdV\\xd9QI\\xef-\\xcb]Ur\\xc1\\x12\\xb2\\xfd\\xa0\\xac\\xe6Q \\x1dH\\x1e\\x17\\x9f\\x94\"M\\xdd\\x1e\\xdc\\xf7\\xb5\\xdd\\xa5\\xef\\xdd\\xdd\\xf8i\\x82\\x01\\xe3y\\'\\xa6\\x8b5\\xcf\\x80\\xd7@?\\x0c\\x02$E\\xb5\\xe2\\x96 Yf\\xb2\\xa1\\x07)]\\x1e&\\x99\\xf9\\xad\\xbc\\x0fk\\xe4\\xf8ZZ\\xcc\\xfa^\\x00\\xb6\\x93\\xb6\\xfe+\\xd00\\xd8\\xa0\\xe6q\\x91\\xf6^w\\x82\\xa7\\xef\\xa9\\xe5h\\xef\\x02\\xe3\\x1ct\\xdf\\xc3\\xe4\\xba\\x0ff\\xb1n\\xf7yO\\xe99O\\x10m\\x07\\xc6\\xc1g\\x94T\\xbat\\xf8G\\x190\\xd9\\x89\\xdf\\xec\\n\\xd2\\xa5Q\\xdf\\x08\\x00\\xcd\\xe0\\xb1\\xde@\\x8d\\x16}!\\x131\\xe3\\x1f\\x9e\\x8a\\xdd\\'\\xf7\\xbe\\x06\\x9eb\\xff\\x00e\\n\\x16\"\\xa0&\\x08-6\\xb1\\xfa8\\x18\\xe2\\xabb\\xbb@gm2\\xe8.\\xbc\\rL\\x18\\'\\x8c+x\\x91\\xef\\x07>D\\xe9\\xa1\\x04\\x15\\x9dQ\\xad\\xf7\\x81\\xd1%\\xb6\\x98\\xbe\\xd0>\\xa8\\x9eN\\xf8i\\x83\\xc0&a\\xbc\\x15\\x1b*l\\x89\\xd7\\xdd0\\x91\\xcf\\n\\xbe \\x83\\xa0\\x82<<BT\\xdc>\\x13\\xff\\x00\\n*\\xfa\\x89\\xe8\\x9ai\\xa8\\xd6\\xb9i3\\xf3\\x94\\xee\\x0b>\\xa5hx\\xba\\xd2&n\\xbd_\\xc3\\xf9:\\xb8\\xff\\x00\\xd7\\x0f\\xa9\\xc7\\xb9@\\x9d:e\\xe8\\xed\\xcb\\xa2N\\x92Jv4\\x98\\x15\\x93\\xdaX\\x1c\\xa4\\xd4`\\xb1\\x00G\\xf2\\xc6cnWZ\\xc9\\x02\\xbc\\xfeN9\\x9c\\xd5u\\xe3\\x95\\xc6\\xb9\\xd7\\xdc1\\xa3p\\x0f\\x80\\x83\\xf6\\xf3Sb\\xdd\\xa0\\xe2@Z\\x95\\xb0Lq\\x98\\x87i#\\x86\\xb1\\x0b7\\x19\\x86{^\\xc2@\\xca$\\xcf=\\x87]W\\x9f\\xc9\\xc1\\x96\\x1d\\xfb:q\\xe4\\x99t0`*\\xfd\\xa7\\x87\\xf7\\xb4\\\\\\xd0D\\x98\\x891pA\\xba\\x92\\xb7\\xc2S\\xe0\\xddf\\x95\\x8c\\xfa\\xb4pO#/Nk\\x1d\\xc6\\x1d%k\\xf6\\x832\\xd4\\xa8\\xde\\x0ew\\xcc\\xc2\\xcd\\xa3@\\xd4xcu? $\\xad\\xab7M\\xec\\x86\\x10\\xf7\\xaa\\x91\\xdd:s:-\\x0c\\x05\"\\xd7\\xd5\\xcb\\xa1q16\\x92.}\\x0f\\x92\\xdd\\xc1a\\xdbJ\\x93X\\x04\\x06\\xb4y_\\xd6\\xde\\xab3\\x06n\\xf9\\x10\\xe2\\xf7\\x828\\x00 \\x91\\xe3\\xeb\\x99F\\xd5\\xa6\\xf5\\'p\\x12x\\x9b\\x0f\\xbf\\xa2\\x91\\xd5\\x1c\\x08.\\xa6\\xd2/\\xa3\\x89<\\xe2@\\n\\x95*\\xaf:\\x18\\xf9\\xd8\\xf1\\x98\\x1a\\xf3S\\xc5A\\xa3\\xdd\\x17:5\\xc3\\xc9\\xa4\\x15*_\\xc3Tk\\xae\\xdf\\'|C\\xaf\\x11\\xcdU\\xc40\\x87\\xbb\\x9f\\xc9>\\x1e\\xb1\\xcd\\xde\\x00I\\xd5\\xbf\\x0b\\xb8\\x88\\xd5\\xae\\xe4T\\xd8\\xdaY\\x86a\\xab|\\xe1\\n5\\x0b\\xa7\\xf7\\x84Z4\\xf9(p\\xf5\\xa3\\xaf\\xe6\\xdf\\x9a(\\xeaU\\xbd\\xff\\x00\\x01AZ\\x92\\xb1\\x19\\xc7;\\x1f\\x1d\\x14x\\x87l\\xa0\\xac\\xe2\\x07Eg\\xdd\\xe6\\x01\\xdaL\\x15\\xaf\\x1f\\x1eY\\xddc\\x19\\xe5\\x9c\\xc6n\\xb3ka\\xdfT\\xf7\\x08\\xb3\\xaf;\\x0f\\r\\xd6\\xb0\\x10\\x00\\xe0\\x90\\x00X\\x04\\x97\\xaf\\xe9\\xf8\\'\\x14\\xfb\\xb8yy>:I$\\x92\\xe9\\xdb-\\x12I$\\xa7f\\x95$\\xd2\\x92\\xe4\\xdbc\\xa2\\x17\\xb1B\\x9d\\xa9\\x87\\x9f3\\xda\\x17\\x10\\xfaO\\x1d\\xe2KZ\\xe1\\x1a\\x93\\x030\\xdb\\xaa\\xe9\\x9b\\x0cm\\xe0\\x00< /<\\xed\\xaa\\x05\\x95\\xab0\\xedQ\\xfeY\\x89\\x1e\\x90\\x82\\x87i\\xd5\\x14\\xcd,\\xe4\\xd3;\\x1d\\xb7\\x80u\\x03\\x92\\xf2\\xf3\\xc3\\xbe\\x9dx\\xe4,v#;\\x9e\\xef\\xe6$\\xf9\\x95w\\xd8\\xfa\\x01\\xd5\\x8b\\xcb\\\\C\\x01\\xd1\\xa4\\xb4H7q\\x1ax\\xad_g}\\x9c\\xc3b(\\x07\\xd4\\xadPT9\\x8c0\\xb044mv\\x93\\x98\\xae\\xd3\\x05S\\t\\x83\\xa5\\xdc\\x861\\xb7vh\\x93\\xc4\\xbeu=VyrI\\xe1\\xa6<v\\xf9fcj\\x86\\xb6I\\xb4\\x19<Z\\x1b\\x7fP\\x0f\\x9a\\xcb\\xf7\\x9f\\xf7:v\\x9e\\xf4L\\xea3\\xe5\\x1c\\xe4\\xaa\\xa3\\xb4\\xe9\\xd7\\xc3\\xd5s\\'\\xdd\\xb4\\xd5\\x11\\x1a0\\x87\\xe5>YlVM<nf\\xd3.\"oQ\\xdc\\xc9%\\xaci\\xe3\\x1d\\xe3\\xe2\\x8c{*\\xec\\x18\\xf6\\x90\\x03\\xaf\\xc8}\\x95\\x865\\xba\\xfb\\xb7\\x03\\xc5\\xa0\\x83\\xe8Vf\\x12\\xa1\\x81y\\x9b\\xdb]4\\xba\\xbfD\\xba\\xe0g\\x1e\\xb1\\xf9\\xd1\\x01j\\x9b\\xac/\\x98\\x12.D9\\xb7\\x11>1c\\xa2\\xb9N\\xb7x\\x12l\\xe9\\x07\\xc8\\xfd\\xc2\\xa6\\xce\\x04\\xda/\\x07\\xd4\\xac\\xfcgh6\\x9b\\xa5\\xee\\xee\\xb6\\'\\xc4\\xc5\\xb9\\xfd\\xd0mW\\xb3+\\xaf\\xcb\\xc8\\xfez\\xa814^\\\\2\\x89\\x13s\\xb2\\x9d\\x98\\xea8\\x80\\x0c\\xe4&.\\xdb\\x829\\xf3\\xe6\\xb4j\\x0b\\x08\\xb8Z\\xf0\\xe13\\xceK\\xe1\\x1c\\x99k\\x1bb\\xb3X\\x07_\\xcd\\x12%;\\xc4!+\\xda\\xc2c\\x8c\\xd6.\\x0c\\xad\\xbd\\xd2I$\\xc5V\\xd3\\xa3\\xa4\\x85\\xceH\\x9b\\xfd\\xbd>\\xa8\\xd8\\xd0\\xd3&\\x07\\x8aI\\x199\\xd7\\x17\\xf0\\xe7\\x1f\\x9eH\\xf3,\\xfaU\\x80$\\x97O\\x1eCO\\xdd\\x1d\\x17\\x9b\\xb9\\xdc\\xf7\\xde\\xf1\\xe9\\xf3^F<\\xfav^=\\xafJ U\\x1a\\xd8\\x8bA\\x9f\\xc3\\x08\\x0e*\\x1d\\x1c\\x87\\x887\\x95W\\xd4{\\x17\\xcaq\\xde\\xdf\\xe12b\\x05A\\xa5V\\x8f\\xf2m\\x8f\\xa6U\\xcbS\\xd5z\\x1f\\xb4\\xf4}\\xfd\\x170\\ts\\x7f\\x88\\xce\\xa0]\\xa3\\xa8\\x9fE\\xe7T\\xddp\\xb2\\xb9L\\xae\\xd7&\\xa2Z8\\x9a\\x94\\x8ejo-<\\x95ln6\\xb5g\\x7f\\x11\\xeew#\\xa7\\x96\\x92\\xac\\x96\\xd9V\\xa8\\xc8 \\xa8\\xb8\\xcd\\xec\\xf6\\x8a\\x8b\\xeaS\\x90\\xd7\\x10\\x1dg\\x00l\\xe1\\xcc+\\xd8w\\xcby\\x88\\xf4\\x03\\xea\\xa0\\x02HS\\xb9\\x86\\x0c~xn9\\xa2\\r;\\x1e\\xc9\\xae\\\\\\xc1\\xe0?\\x0fY\\x92\\xb5\\xf0\\xf0\\x04\\x90c\\x91\\x95\\xc8v\\x06&,\\r\\x8cs\"d\\x86\\xfc\\xd7MK\\x14\\xe6\\xc9kf\\xd0@\\xe1\\xbc\\x14\\xaa\\xa3R\\x81\\xd3{\\xef\\xaav\\xf63Hy\\xa8s\\xe6\\xcdb\\x04\\t2#y\\x1ceE\\xd9\\xf5A \\t\\x17\\xd0\\xf9J\\xdb\\x8b\\x1b\\xec\\xa4\\xe3\\x9d\\xc5\\xfb/M\\xd2h\\xbd\\xd4\\x0f\\x06\\x89a\\xfe\\xc3\\xa7\\x81\\n\\x81\\xec<kAh\\xc44\\x8e2\\xe1\\xe9u\\xd5:\\xac\\x02w\\x8d\\xfa(\\x05~:h7\\xb7\\x15\\xb7\\x14\\xc7\\xdd\\x19\\xef\\xd9\\x17g\\xd3\\xac\\xc6\\x06V\\xad\\xef]\\xd2\\x00\\x03MO\\x0f\\xf8V\\xf3*\\x95q7\\xf2\\xe9\\xaf\\xee\\xa3\\xff\\x00V@3\\xd5u\\xe1\\xcf\\x8e\\x1dF\\x19aoui\\xd8\\x80\\x04\\x99\\x8b\\xfc\\xc2\\x16\\xd5\\x9b\\xf0\\xf9\\xaaC\\x13!\\xd24\\x04\\x9b\\xc5\\xe3I\\x08\\xbd\\xf0kgk\\x18\\xe48\\x8d\\x8e\\xa9\\xe3\\xcf\\xf5\\xa5x\\xd7\\xaa\\xdd\\xa8)\\xbad\\xf3\\x8f ,|eV8\\xd0\\x06\\xb2N\\x91\\xce\\x10\\xd3\\xc4At\\xc5\\xcf\\x1dm\\x16\\xf1\\n\\xff\\x00\\xc8\\xc5?.\\xafg\\xfd\\xcaJ\\x0f}\\xdd1\\xa0\\xf0\\x9b\\xf1IM\\xf5S\\xd9_&\\xa0\\xc3\\xb4\\x90s_\\x8d\\x87\\x82\\x94\\x08\\xee\\x9b\\xf1\\x93y m\\xe2|\\x8a\\x85\\x98\\x96\\xc3\\x9e\\x04\\xdc\\x1b\\xc6\\xba\\xe9\\xe2uUj\\xe3A<F\\xba\\xc7{{\\xf9\\xaf\\x1d\\xdc\\xb1\\x88=\\xe6\\x81\\x07[N\\x83\\xc3\\xae\\xc9\\xbd\\xe0qva\\xa4^z\\xc7\\xc8\\xdf\\x98T\\x8d`Ap$\\x104\\xbd\\xee\\x05\\xbdR\\xa8e\\xa66-\\xd0F\\xd7\\x03m\\xfeJ\\xa1.\\xd1\\xa9\\x11\\xc3\\x9d\\xb8\\xccO\\x05\\xc5{S\\xd9~\\xed\\xfe\\xf9\\x83\\xb8\\xe3p?K\\x8c\\x19\\x8d\\x81\\x9f5\\xd3\\xd6\\xa8\\x1c\\x01\\x06\\x04\\x1b\\x11\\x1a\\x81\\xcfI\\x8e\\x06\\xea\\xb9\\xa4\\x1e\\x18\\xd7\\x11\\xdf\\x10A\\xbc\\x87\\x02c\\xc2\\x00\\x91\\xc5T\\xe97\\xb7\\x14\\xd2\\x89\\x8c\\x9dD\\xa91\\xb8\\x7fuU\\xd4\\xf8\\x1bN\\xb0n\\'\\xc0\\xa3\\xa2`\\xad\\x90\\xab\\xfe\\x99\\xd0cQq\\xc6\\xda\\xc7\\x1b_\\xa4\\xad\\x1e\\xc1\\xa4\\xd7\\xd5i\\xa9\\xa0\\x91\\x96`\\xb8\\xb4f\\x8b\\xf2\\x0e\\xf1j7`\\xc9\\xa7\\xefF\\x99\\xb2\\xdb\\x88\\x13*\\xcf\\xb4\\x18\\x9fw\\x83\\xc3\\xb9\\xad\\x97=\\xce\\x1b\\x8b\\x8d\\x08\\x8b\\xcc\\x81\\xe4\\xa3#\\xf0\\xce\\xa2G\\xbd\\xa9V\\x9c5\\xb9\\xa0\\\\\\x01&3\\xc7\\x11}?\\xaa\\xda.\\x8f\\t\\xdb\\x14\\xcbM\\xec\\xd0$\\xc8\\x02\\xfbz\\x85\\xc0\\xe2\\x1e\\x1bS#~\\x1ac/\\x1e\\xf7\\xeb?\\xe57\\xe4\\x16\\xb0\\xc5{\\x9am\\x04C\\x9e\\x0b\\xc8\\x00|#\\xe0\\x9fS\\xe2\\x13\\x9e\\nW{\\x82\\xc7P\\x90\\xefx\\x1b\\x06Nc\\x03\\x9a\\x97\\xb6=\\xb1\\xa1I\\x83!\\xcf\\x9aC]|\\xa4\\x8e\\x11w/\\'\\xc6v\\x8b\\x9fm\\x07\\x01o>+o\\xb0\\xf1\\x98j\\x8d\\xa6\\xca\\xe0\\x8a\\x94\\xa44\\xcc\\x074\\xed\\x1b\\x959M*e\\xbb\\xa7S\\xd8\\x9e\\xd1\\x1cN`\\xe0\\x01i\\xb1\\xda\\x0f-\\x8a\\xd7uR\\xe8\\x87kn\\x16\\xbe\\x97\\\\\\xdfc\\xf6k(\\x9e\\xe3\\xf30\\x97^4\\x11`\\xe2\\xb5_\\\\\\x0f>0\\x06\\xda\\xf1N\\n\\xb5M\\xd3#S~\\x82\\x05\\xe4(\\xea\\xc8\\x12\\x0c\\x90r\\x99\\xf9\\xf4\\xd56\\x1fS\\x98r$\\x9d\\xb4\\xea\\x96\\x1e\\xa8q\" \\t\\x1c\\xf5\\xb1\\x07n*\\x923\\x9c6\\xc0@\\']\\xf5\\xd7\\x8f\\xee\\xa5k\\x00l\\xc9\"fN\\xa4\\xeaT5\\x84\\x10\\x06\\x8e\\x92n\\x04\\x19\\t\\xde\\xf0-7\\'4o\\x10\\x0e\\xe8\\x02{\\xa0\\xe5\\x89-6\\xe9\\x109\\xe9\\xf5LD\\x1c\\xda\\t\\xeb\\x9b\\xa7\\x91\\xf3Q\\x17e\\x97\\x1b\\x8d\\'\\x8c\\x9b\\x0e\\xbb)\\xf1\\x14\\x8b\\xc4n,8q\\x91\\xc3@\\x83\\x15:\\xe5\\xc3{\\xccxrIU\\xc3\\xd41k\\x1d\\xc9\\xf0\\xf2))>\\x8a\\xbdX\\xb0\\x10\\x071$\\xeb\\'\\xf3u]\\xb4\\x1cH22\\xc7\\x9c\\xcd\\xe7\\xaa\\xb1\\xee\\xc1\\xb9\\x9d\\x84\\x9b\\r\\xed\\xd5IQ\\xb6h\\xd3I?\\xa7K\\x03\\xd1sZ\\xdfJ\\xb4\\x0c\\xbeA\\xd8\\xc7\\x0bi\\xf2S5\\xce\\x12\\x0e\\xa4\\x181\\xc6\\xe0\\xf5K+A!\\xb2`\\xc5\\xeebDi\\xa8\\xba\"\\xdf\\xe1\\x92M\\xcb\\x88\\x9eP\\t\\x1e\\x17\\x9e\\xa8\\xd9i\\x9d\\x8fwt\\xf0i\\x9b\\xda\\xce1\\'\\xa5\\x94\\xb9H\\x14\\xc16\\x0e<\\r\\x88\\xd2\\xfb\\xc1\\nZ\\xaelG\\x12\\xd1$\\x7fX\\xe3\\xaf\\xec\\xacUsr\\xed\\x9aY\\xbf\\xf5p\\x8bY9\\x99|.3\\xb6(\\xde\\x9b\\xf7p-?\\xda{\\xa7\\xe7\\xfe*\\xff\\x00\\xb2\\xb8v>\\xa1/\\x00\\xda\\xc0\\xde\\xf6\\xbcx\\xab>\\xd2\\xe0\\x8b\\xa9:\\xa0\\x11\\xee\\xdc\\x1cv\\x04XwF\\xda\\x93\\xe0\\xb3\\xbd\\x9c\\xa8[Vv6:\\xdb\\x9f\\xa7\\xcdo.\\xf1ggn\\xc7\\xdaz-\\xff\\x00J \\x00\\x1a\\xf6\\xc0\\x029.[\\xb6\\xff\\x00\\xfat\\x1c@\\xeeT\\xa8\\xf1\\xfd\\xa0\\xe5\\x1f\\xe4Z\\xbb.\\xd0\\xc1:\\xbd\\x10\\xd6\\xbc4\\xe6\\x04\\xebx\\xb4[\\xaa\\xe6\\xbd\\xbf\\xc3\\x9aXZ\\x14C\\xa4\\x97\\x19$\\xc6h\\x12u\\xfe\\xa2\\x0f\\x82R\\xf5\\xa2\\xae\\'\\xb2i\\xbe\\xa3\\xc0$\\x96\\x88.\\'\\x86\\x9a\\xea>\\xd2\\xbb\\x9fg\\x9bF\\xa7\\xbc{\\xa90\\x9d$\\xb4\\x12d\\xc0\\x06F\\xcd\\r\\x11\\xc9r\\xd8Z\\x06\\x957\\xc8sjDH\\x13\\x98\\xbe\\xd0\\xdb\\x89\\xca\\xdc\\xda\\x1b\\x13;-\\x9fd\\xb1s\\x95\\xbb\\xbb\\xbc|\\t\\x1fUZD^?\\xfa\\x7fE\\xf5\\x1c\\xefz\\xf64\\x92\\xec\\xadk{\\xb2f\\x01\\xd8\\x0e\\x8ba\\xbe\\xceapt^\\xfal\\x97\\xe5\\xf8\\xdes;m6o\\x82\\xd8\\xc3\\r?6Q{B\\xf2)\\x00\\r\\xdc\\xe0\\x07\\x98;\\xf4IrF\\x07\\xbc\\xee\\x90E\\xdb\\xa5\\xf5\\xb4}\\xbdSRx-\\x02A\\x87\\\\Z\\xc6`\\x99\\xdb\\xf4\\xdb\\x99\\xf0U\\xdd\\x99\\xc4\\x9bi\\x03\\xa4\\xb4u\\xb4\\x99U\\x03@p\\x83\\xa0$\\xc8\\xd4\\x81\"\\xd0\\xaa\\n\\xbb\\x87\\xae%\\xce\\xb8\\x06@\\x9e<\\x7f8\\xa25\\x891\\x12f \\x1bM\\xf5\\xf1T\\xdd\\x0c\\x88\\xd0\\xc0\\xbe\\xbc\\xcd\\x86\\xf7\\xf3\\nZ\\xd5\\x1c\\xd3 \\xc03\\x13\\x070&$\\xf3\\x89\\xbf4\\xd27\\x1f\\x88\\xc1\\x1f\\xa6\"`\\xf2\\xf0\\tTp13f\\x83\\x1b\\x1d\\x01#\\xcf\\xd0(\\x9eu\\x04\\x91\\x1b\\\\\\x89u\\xc9<le&>A0D\\x10\\x08 \\x9b4\\xf1\\xfc2\\x9d\\x0bO6l\\x9d\\x0e\\xa2\\xe0\\xdc\\x13\\x03\\xc1J\\xea\\xc6D\\xee.f/x\\xb0\\xea\\xa1\\xa4\\xfb\\t\\x8b\\x13$L\\xccM\\xbc\\xd4\\xd5)\\xe6\"\\x0e\\xbdxr;\\\\\\xee\\xa7j\\xd2FZF\\xa4\\xc4\\xf0\\xd0\\xf1\\xf3\\xd12Mp\\x10@\\x97D\\x02H\\xd2M\\xba\\xeb\\xb2I\\x18\\x19 \\n\\x93\\x11\\x11\\xbc\\xeau\\x07o\\xaa\\xa9[\\x10@2y\\x9b\\xdaN\\xfc\\xf4SU\\xa9 \\x03\\xc0\\xe8,N\\xfat\\xd1S\\xa9_)\\xb9\\xee\\x92t\\xb1\\x00jDp\\xe6\\xb9\\xe4k\\xb4\\xf8J\\xa3\\xbd\\xb6\\\\\\xb2\\r\\x8cOz\\xfa\\xe9e\\x1e\"\\xab`\\xc6g\\x1d\\xe7\\xf4\\x1dA\\x8f\\xd5i\\xf3\\xba\\x9a\\xb45\\xae2\\x1d\\x9c\\x07\\x032d\\x00\\xf8\\x00i}A\\xe28*\\x18\\xca\\xa5\\xad\\xa8I\\x9f\\xd0`\\xe8A?\\x11\\x8b\\x08\\x81}\\xc8F\\xbb-\\xae\\xd0s;\\xa3\\xf5\\x1a\\x82\\x0131\\x16<\\xbe\\xeaLmV\\xc8\\x03\\xbb\\xdeh\\x90t\\x87\\xb4\\xc0\\x1a\\xeat\\x0b\\x13\\x0b\\x8bt\\x80\\xdds\\tq\\x12\\x04\\x0bu\\xdf\\x82\\xe80T\\xd8\\x03I\\r//\\x00\\xb8\\x90\\x08\\x19\\xed\\xf2\\xd3\\xee\\xa6\\xfeS\\xf2\\xbe\\xfc<\\xb1\\xd3`{\\x84Z\\xf7\\x02\\xfe\\xab\\xcf\\xb0\\x94\\xcd<Id\\xfc/sd\\x1d@$\\x05\\xe9\\x95)\\xe6\\xee\\xff\\x003\\xa6\\xe6\\x06\\x9f\\x0f)?2\\xb8\\xfcog\\xb9\\xb8\\xa7\\x80mP2c\\x8d\\xa4\\x03\\x10-\\xcen\\xaf\\x8a\\xfb\\'8\\xeb\\xbb1\\xc0\\xb0s\\x0b\\x13\\xdb>\\xce5\\x852\\xd7\\thp\\x13\\xfdYn\\x07\\x11\\x04\\\\\\x8dV\\xd7f\\x90C@:\\x18:A9M\\xed\\xa8\\x9f\\xa2n\\xdf\\x00\\x1as\\xc5\\xdat\\x99\\xf4V\\x9b\\xe1\\xe7\\xd8\\xec\\x00ciP\\x05\\xf0}\\xe9\\xcc\\xd1\\x17\\x02d\\xde4\\x10\\x07=\\x95\\xbff\\xb0b\\x9e!\\xac\\x06\\x7f\\x86\\x0c\\xf3t\\x1f\\x99*\\xdfj\\xba*a\\xee\\xee\\xf3\\x9d\\x11pe\\xa0~sWp\\xb8P\\xccC\\x08\\x8b\\xd3\\x93\\x00\\x89\\xefk\\x04\\xf1\\xf9\\x85\\xa4\\xac\\xf4\\xea(S\"\\xfb_\\xf3\\xd5S\\xf6\\x87\\xbc)\\x8dn\\xef\\x1e\\xef5v\\x9b\\xed~?=\\xcf\\xe6\\xeb+\\xb6\\xeaH`\\x17\\xf8\\x8d\\xedy\\x03E-\\x19\\x82\\xee;\\xc0\\x13:\\xdaI\\xeb\\xaa\\x87\\x18\\xd2L\\xb6&\\x05\\xc8?M\\xae\\x0f\\x9e\\x8ax9\\xbc\\x0e\\x9f\\x9b\\x90\\x89\\xf4\\xfb\\xc0\\xda\\xeeo;o#\\xc4\\xea\\x94\\xa7b\\x9f\\xb8\\x05\\xd7t\\x82b4\\xd2\\xe0\\xf2\\xb5\\xd5\\xeaU\\xf2\\x92`X\\x00\\x08\\x11\\x070\\x88q\\xbe\\xe3\\xd55\\x068\\xe7\\xa8H\"\\xfa\\xeb\\x99\\xc6\\x06\\x9e*\\x1c\\x0bZd\\x93\\xb0>\\x00\\xc8\\x89\\xe9\\xea\\xab{N\\x90W\\xabU\\xef\\x05\\xc4\\xccm\\xb0\\xb4\\x0e\\\\8\\xa9\\x98\\xd0\\x1a\\x1cI\\x00\\x12M\\xaf\\'0&\\x02zT\\x88yq\\x80N\\x83K\\xeb\\x7f&\\xd9\\'\\x07\\x17\\x00A2:\\x117\\xd5=\\x8d\\x1e\\x95\\t:\\xce\\xfc\\xf4\\x8b\\x89\\xe4\\xae\\xb5\\xb6\\x89\\xd6y\\x1d\\xcf\\x87\\xee\\xab\\xe1\\xe9d\\x87\\xc7z\\x087\\xe3\\x06\\x08\\xf0VZ\\xd3&\\x081\\xf2\"\\xe3\\x9d\\xd28\\x1al\\xde\\r\\xb7\\x06\\xf7\\xb7\\xd0\\xa6GP\\xc6Q:\\xec-\\xb7\\xe7\\xa2JwOQQ\\xc4\\x82\\x03b\\xd3c\\x11x\\x06x\\x89;*\\xd5p\\xbd\\xfam\\xa9\\x10{\\xc6?\\x94\\x03\\xf0\\x8f\\xed\\x9b\\xf3S\\xd5\\xe5\\xb1\\x80\\x7f\\xdcL\\x98\\xe9\\xf3F)\\x17\\x1c\\xf9\\x8eb#@mc\\x1297\\xd4\\xac\\xadV\\x953\\xe5,\\x9d%\\xa6\\xc0A\\x00\\x91\\x1c\\xe7\\xba\\x16\\x7fh\\xd0.~Y\\xd0\\xb8\\xeb-\\x93\\x17\\xe9 \\xadz\\xf8B\\x1c\\xc13\\x95\\xc6A<\\x1cu\\xe5\\xactU\\xaa\\x8f\\x86\\x7f\\x95\\xa5\\xdc\\xf4\\x91=d%/c\\xd9\\x15,0\\x80\\xe8\\x9e\\xf6b\"\\xd0\\x01\\x91\\xe5\\t\\xe8bNl\\xa7G\\x10\\xe6\\xf1\\xf8\\xfb\\xda\\x9e&y+5*8\\x06\\xc0\\xb0y\\x9c\\xc0\\xc5\\xc8\\x00N\\xfa\\x1d8\\xaa\\xd5(\\xe6\\xa9\\x91\\x81\\xee\\x04\\x98n\\xb2.L\\x8d\\x80\\x10m\\xc19\\xd9WM\\x8a\\xa9\\x06\\x91g)\\xe9\\xb5\\xfa\\xddr\\xfe\\xd0c]\\xefH\\x07+E\\x9a\\x7f\\x98\\x81\\x99\\xa6v\\xb0\\x1b\\xf0Z\\xee\\xc4\\x86\\x80\\xf6\\xee\\x03Ct!\\xdf\\xa4\\xff\\x00\\xb7\\x92\\xc1\\xc7W\\xcc\\xc0\\xf9\\x02j\\x07\\\\\\x12r\\x99d4\\xf1\\xd3\\xcdV\\x18\\xea\\xc2\\xcb-\\xba\\xde\\xc8|\\x8688:L\\x92\\x04\\x12r\\xba|\\x8d\\xbc\\x14\\xbd\\xb8\\x1c\\xefv\\x01\\x8e\\xfc\\x1b\\x9b\\xb6\\x0c\\x8fE\\x9d\\xd9N\\x8e\\xee\\xd9\\x88\\xe3\\xa0#\\xc2\\xf2\\xb4\\xb1U\\xfb\\xcd\\xe0\\xd8\\xf5\\x90>\\xaa\\xafE;s~\\xd0\\xe0\\x8b\\xebR\\x82FP\\xf2/\\x04;\\xba\\xe1i\\xbd\\x83\\xbf\\xc5jb@\\xcdI\\xc2\\xc4\\xb5\\xd3\\xb5\\x89aS\\xe2\\xa8\\x03\\xdf-$\\xe51\\xa4\\xcc\\x9c\\xbdu+=\\xa1\\xc6\\xab\\x8c\\xf7X\\xd0\\xd8\\x93\\xa9\\x82A\\xbe\\xb7\\x1a*\\xc55\\xba\\xc1\\x95\\x86~\\x137\\xdc\\x1e\\'\\x8f\\xee\\x16~)\\xb9\\xc8\\x8117<5\\x98\\xf0R\\x02j9\\xa0\\xdd\\xa2\\'\\x9b\\x8bI\\x1e\\x9a\\xf5\\n`5\\x9d\\xa3\\xd7\\xf0\\xa9\\xca\\xaeFuZ9|H\\xd0\\xf36\\xf4\\x94m\\x19d\\x98\\xb0\\xe9\\xa1\\x81\\x1eh\\xdd[c\\xad\\xc7=\\xbf<PW\\x03M\\xccinc\\xfe\\xa3\\xe8\\xa6(\\xa9R9H\\xe6\\xc2\"\\xdaO\\xfe^j\\x1aY\\x9bcm\\x0c\\xc7?\\xf8V\\xab\\x98-\\xe5\\xb5\\xa2\\xcdl\\xef\\xcc\\xa0{/\\x13\\x13\\xe9\\xc7\\xc2\\xca\\xb1*\\xadZ\\x89\\x8b\\\\\\x92H\\xbe\\xc0~y)\\xaa\\xd2\\x9b\\xe8c(\\x8dH\\x8b]J\\x18\"\\xf1\\xbc\\x19\\xf3\\xba\\x86\\xadKs\\x10\\xebL\\xf8\\x0e\\x89\\x90\\xa9\\x93\\x1ai\\x1ejjF\\r\\xb8r\\x9b\\x0b[\\xc4\\xa8\\x18\"g\\x87\\xa8\\x88\\x98\\xd3_T@\\x00/q{\\xc7\\x8d\\xd3\\t\\x1aC\\x89<t\\x8d\\xb9z$\\x85\\xa2\\xc5\\xa4\\xce\\x91\\x16\\xd8}\\x00\\xf3I\\x004\\xf0\\x8d-\\xa9\\xfal\\xd0\\x0e\\xb1\\xacG\\x18\\xb1\\xf0S\\xe1\\xc1\\xef8\\xb4\\xf72\\xe5&n\\xe6\\xe7\\x1f%c\\xb3\\xb0\\xc7\\xbc\\xdd\\x0b\\x88\\x99\\xd3M\\xba\\x01\\xbd\\xd4\\xf5#;\\x00\\x04\\x02\\xe6\\x8241\\xde\\xbf_\\xba\\xe1\\xcb>\\xf4\\xdec\\xd6\\xd8\\xf5\\xf0\\xa4\\x86\\xb9\\xd6\\xbb\\xa2\\x06\\xd9\\xb2\\xdf\\xfbd\\xdb\\x92|.\\x00\\x13\\x9bC\\xdeh\\xd6d\\x1b\\x1e\\xb7Z\\xf5\\x8d\\xe7\\xf4\\xc3bt\\xcd$\\x98\\x00s#\\xc1;Z\\x03L\\xf11\\xcf\\xba\\t>j\\xa6wI\\xb8\\xb0\\xf1\\x18\\\\\\xb9\\x89\\xbd\\xdaL\\xf3\\x04\\x91\\xf2\\xba\\xa9[\\n\\xd0\\xdb\\tp\\xcaF\\xb3\\x19[3\\xcenG\\xd9t\\x18\\x96f\\xbe\\xb1\\r=o\\x00\\xfa\\xac\\x8cc\\\\E\\xff\\x00Q\\x07\\xa4\\r#\\x84\\x92\\xaf\\x1c\\x91`h\\xd3s\\xdaw\\x7f\\xff\\x00\\x1d\\xe1\\xdd\\xd2 \\xbf_\\x88\\x16\\xd8\\xacz\\xad\\xcf\\xdc\\xca\\x0b{\\xc1\\xd9\\x8c:G\\xee\\'\\xa2\\xde\\xc9\\x91\\x802Z\\x0b\\\\\\x1d\\x064 \\xb1\\xa4\\xe9\\xa4\\x8f\\x02\\xb2\\xdd\\x84hc)\\x10\\\\\\\\fd\\x9b\\x08.\\xefr\\x02?\\xb4\\xad\\xa5E\\x8b\\x9d\\x96\\xeb\\x07N\\xae9x\\x82\\xe0#\\xca\\xea\\xde6\\xb1\\x81$\\\\\\xd3\\xb9\\xe0\\xd2\\xe7\\x13\\xe6U&\\xfc\\x14\\xfcm\\x11\\x06L\\xc1\\xe7a\\x7f\\xa2\\x92\\xab\\xcc\\xc13\\x04\\x8d\\x8c\\xeat:\\x8e\\xec-\\x12\\xd0\\xc3\\x89w@\"x\\xc9\\xf9\\tY\\xf5\\x1d5\\x03oi\\x88\\x10\\x7f\\xaag\\x8f\\r\\xbc\\x16\\x9d9\\x86\\xc8\\x80I\\x06,sA\\x06\\xdc\\x16sA\\xf7\\x8e\\xa9\\x97\\xbcK@\\x1b\\xc9\\x82\\xef\\xb2\\x8d\\xe9z\\xdal1-ky\\x92]:\\xc9\\x13\\x03\\xc4\\xfa\\x05f\\x9b\\x88\\xa6u\\xb9\\xbc\\x89\\xe0J\\x8a\\xa3C4\\x83\\xdet\\xef}\\xe2x}l\\xa3\\xc7\\xe2^Zx\\x91\\x9b\\xe1\\x811:mx\\xf2\\nM\\x1dG\\x12]\\xc4\\x89\\xd3\\xc9H\\xd7\\x18\\x16\\x92\\x0c\\x13n\\x13\\xd7\\xf9\\xbc\\xc2\\x0c#`\\xc1 \\xccs\\xb4E\\xba\\xccx%Q\\xe5\\xa6\\x0b\\xb5\\x1a\\xeb\\x11r9\\xe8S\\x1b*n:\\xe6\\x91& \\xdb\\xf4\\x83\\xf2\\xf4RV\\xab{\\x93?\\x96\\xf4PP\\' \\x91\\xa4\\x98\\x1c\"<J\\x07\\x99\\x1b\\xeb\\xae\\xdc\\xc4\\xf1U \\xb5p\\xb8\\xcc\\x03\\xa4\\x1e X\\xcfR\\xa0\\xc4\\xd1\\x12o;nu\\xd7Kj\\x8d\\xa3\\xbc\\xd8\\x1a\\xda\\xc3\\x9f\\xae\\xbf$/\\xefg1\\xb1\\xd2bf\\x02eR\\xd0\\xbe^V\\xb0\\x8bM\\x87\\x85\\xfc\\x93<\\x13p5&m\\xc3^\\xa1B\\xca\\xce\\x13\\x07X7\\x88\\x97\\r\\x85\\xf6E\\x9c\\xc9\\x99\\x11a\\xe1\\xad\\xd3\\xd1l\\xa9H \\x81\\'\\x7f\\x10\\x9d5\\x07A\\xb3\\xa2\\xdc\\x0f\\xd3\\xa9IN^U\\x8f\\x86\\xc6\\x0f\\xbb\\xac\\x083\\xae\\xbd\\xd6\\xed\\xab\\xae\\x0e\\x8aj\\xf5`\\xb4\\x005`\\x00\\xd8\\xea\\xe8\\'\\xad\\xbdUWT\\x9c\\x93\\xa3\\x1br\\x01\\xb9\\x93\\x06\\xda\\xednr\\xa3\\xa6\\xfc\\xce\\xe2s\\x0e\\xbb\\x93>\\xba/;[\\xbbto\\xad-\\xd6fW\\x1e1\\x16\\xe2-\\x03y\\xb7\\xa2\\x1a\\xe1\\xc6 \\x08\\x9d\\xb4\\xd0\\t\\xf9\\xa7\\xa8\\xeb\\x87\\x18\\x9b\\xed\\xb9t\\x92:\\xabu\\x1b4\\xf6&A\\xbf\\x18\\xf9\\xd9V\\xf5KJy\\xc6X\\x88v\\xbe\\x1b\\x1e\\x92\\xb2\\xf1\\x14\\xdcjLwm\\xc8\\xce\\xa0|\\xd6\\x9d<0\\x063l<\\xafa\\xe6\\xa1\\xc7\\x93\\xf0\\x8ev\\xd7\\xa7\\x8e\\x8bLk:\\xa4FaP\\x03f\\x16\\r\\x0e\\xae\\x893{H\\x8f\\x15\\x01\\xc2\\xb8\\xbc\\x82;\\xackZ-!\\xd6\\x04\\xb8\\xf3$\\xe9\\xd5\\\\\\xc2Q\\x00U\"\\xd2\\xe1\\xaf\\x10\\x08\\x04\\x1e\\xaeiDE\\x9c\\xe2H\\r\\xca>\\x96\\xd6\\xf3~\\x92\\xb6\\xc5\\x15G\\x01\\x93\\xf4\\x8b\\x07[\\x89\\x87I\\x04\\x9efT\\xb4)\\x80\\xe2\\xe7\\x01\\x0c\\x97^\\xe6E\\xe6v\\xd5\\x0fg\\x98\\xa4\\x0e\\x99\\xc91\\xcc\\xcc\\x028O\\xe5\\xd5\\x9auH\\x0e\\xb4^\\xc3Q\\xa8\\x8b\\xf4\\xbf\\x88Zm:M\\xee\\xcb\\xdaF\\xfb\\xc06\\'q\\xe6\\xa0\\xc6\\xbc5\\xcd\\r\\xbb\\xbe=b e.>v\\xe1\\x0bG\\x0e\\xd8h\\x1a\\x0b\\xf3\\xdf\\xbc\\xe3\\xd6w\\xe2\\xb3\\xb1/\\x06\\xf05\\r7\\x93c1\\xea\\x16s\\xb5\\x1f\\x14,\\xd0b]\\x12w\\x8d|:\\xaa\\x9d\\xa3\\x8anXa\\x05\\xae\\xd4\\x8d \\xc0\\xf2\\xbcx);H\\x91\\x95\\xa3\\xf54i\\xbd\\x9b1n\\x9ek2\\xbb\\x89\\xca\\x19\\xc7H\\x92\\x1b\\x98\\x99\\xe0\"\\xc3}\\x15H-h\\xb46\\xe5\\xc4\\x06\\xb6 \\xfa\\x00\\x8e\\x94\\xb9\\xe33@kd\\x80l\\xe2\\xd2\\x1d\\xb6\\xda\\x85\\x15:!\\xa0\\xbc\\x9c\\xc4\\x9fR-\\x94\\x1d!>\\x170.s\\x87u\\xa1\\xd7\\xf01\\xf4\\xb2s\\xc0AU\\xf0ZA\\xe3{\\x91\\xad\\xfce\\x0b\\xa5\\xb6\\x9bp\\xfc\\xfc\\xba\\xae\\xca\\xc0\\xe8\\x01\\xca\\x00\\x03\\x96\\xfdJ:U \\xc8\\xb1\\x17\\x00\\xce\\x92\\x01\\xfay-dE\\xabM\\xac\\xe6\\x93\\x16\\x88\\x02\\xfa~\\xdd8\\xa9k9\\xb6\\xcb\\x19]$\\xeb\\xcczB\\xa9R\\xb005\\x9b\\x1dx\\x11\\x1f/4N\\x048\\x82\\x00\\x90x\\xee\\r\\xbeIH-\\x1b\\x81-\\xa6E\\xe4\\x02G\\x90\\xf42\\x8c\\xd9\\xa4\\xc1\\x93\\x9a7\\xf4\\xf1\\xf4I\\x92\\xd8-\\xd4\\x0f\\x902<\\xe3\\xc9C\\x9d\\xc5\\xbaj\\xedu\\xe4O\\xa0T\\x9d\\xa5\\xa6\\xd0Z\\xdb\\x8b\\xcc\\x1d\"#S<\\xfdRT*\\x074\\x96\\x03\\xa17\\x10E\\xad\\xeb\\xaaJu\\xf7V\\xdd%q\\xddgR|K\\x9c\\x9e\\x80\\x9a\\x8e\\xb0\\xdbo\\xf7\\x84\\x92^o\\xb5u\\x0b\\x10{\\xb3\\xb8\\x0e\\x83\\xbe\\xca\\xcb\\x0f\\xf0\\'x\\x17\\xf0N\\x92\\xaf\\xa1\\x1d\\xce\\xfe#z\\x9fF\\xa8\\xa9\\xb6\\\\\\'\\x8f\\xdb\\xeeS$\\xab\\x12\\xaa\\xe0\\xd9\\xe3i\\xd3\\xa0Pv\\x91\\x8ac\\xfd\\xcd\\xff\\x00\\xa8\\x14\\xc9-\\xb1eNX?\\x86\"\\xdf\\xb8\\xfb\\xa8\\xb0\\xb5\\t5\\t7\\x05\\xde\\x95\\x00\\x1e\\x89$\\xaex*\\xd3\\xaa{\\xbdKG\\x86Rc\\xcdf\\xe3\\x8d\\xcf7\\t\\xf3\\x84\\xe9)\\xc4\\xe9\\xab|~\\r?\\xfe\\x1a\\xa9`\\x8d\\xc76O\\x8c9$\\x95\\xcf\\x02\\xf9[\\xa8\\xf2\\x1dM\\xa2\\xc0\\xb8\\xcc[O\\x92.\\xd0\\x101\\r\\x1a\\x062\\x07Z\\x97N\\x92A\\x87Q\\xb9Y-\\xb6\\x9dQ9\\xc48si\\'\\xc9\\xdf`\\x92Kx\\xce\\xa4\\xc0\\x9f\\x87\\xa9\\x1f!\\xf5*\\xee0EP\\x06\\x85\\xb4\\xfdZe$\\x92\\xfd\\xc2\\xfe\\x94U\\xcf\\xc3\\xcc\\x19\\xf3\\x1ft\\x14\\x9a=\\xd0\\xe4\\xe6\\xfa\\xdc\\xfa\\xa7I;\\xe0\\xbd\\xd0Sy\\xf7\\x95\\x07\\x17p\\x1b\\x0bt\\xd5$\\x92J\\x9b\\xff\\xd9'\n"
     ]
    }
   ],
   "source": [
    "f=open(\"Capture.jpeg\",\"rb\")\n",
    "p=f.read()\n",
    "print(p)\n",
    "f.close()"
   ]
  },
  {
   "cell_type": "code",
   "execution_count": 62,
   "metadata": {},
   "outputs": [],
   "source": [
    "f=open(\"Capture.jpeg\",\"rb\")\n",
    "f1=open(\"Elephant.jpeg\",\"wb\")\n",
    "for i in f:\n",
    "    f1.write(i)\n",
    "#p=f.read()\n",
    "f1.close()\n",
    "f.close()"
   ]
  },
  {
   "cell_type": "code",
   "execution_count": null,
   "metadata": {},
   "outputs": [],
   "source": []
  }
 ],
 "metadata": {
  "kernelspec": {
   "display_name": "Python 3",
   "language": "python",
   "name": "python3"
  },
  "language_info": {
   "codemirror_mode": {
    "name": "ipython",
    "version": 3
   },
   "file_extension": ".py",
   "mimetype": "text/x-python",
   "name": "python",
   "nbconvert_exporter": "python",
   "pygments_lexer": "ipython3",
   "version": "3.8.8"
  }
 },
 "nbformat": 4,
 "nbformat_minor": 4
}
